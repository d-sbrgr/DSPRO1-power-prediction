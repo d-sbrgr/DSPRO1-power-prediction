{
 "cells": [
  {
   "cell_type": "code",
   "execution_count": 256,
   "metadata": {},
   "outputs": [],
   "source": [
    "import pandas as pd"
   ]
  },
  {
   "cell_type": "markdown",
   "metadata": {},
   "source": [
    "# Load data\n",
    "\n",
    "Data is loaded into two separate DataFrames, one for the electricity data and one for the weather data"
   ]
  },
  {
   "cell_type": "code",
   "execution_count": 257,
   "metadata": {},
   "outputs": [],
   "source": [
    "df_el = pd.read_csv(\"./data/ewz_stromabgabe_netzebenen_stadt_zuerich.csv\")"
   ]
  },
  {
   "cell_type": "code",
   "execution_count": 258,
   "metadata": {},
   "outputs": [],
   "source": [
    "frames = []\n",
    "for i in range(15, 25, 1):\n",
    "    frames.append(pd.read_csv(f\"./data/ugz_ogd_meteo_h1_20{i}.csv\"))\n",
    "df_wthr = pd.concat(frames)"
   ]
  },
  {
   "cell_type": "code",
   "execution_count": 259,
   "metadata": {},
   "outputs": [],
   "source": [
    "df_hlds = pd.read_csv(\"./data/zh_feiertage.csv\")"
   ]
  },
  {
   "cell_type": "code",
   "execution_count": 260,
   "metadata": {},
   "outputs": [],
   "source": [
    "df_vctn = pd.read_csv(\"./data/zh_schulferien.csv\")"
   ]
  },
  {
   "cell_type": "markdown",
   "metadata": {},
   "source": [
    "# Format data\n",
    "\n",
    "The underlying data is not yet in a usable format for this project, therefore before any data analysis can be done, first the data has be put into a usable format"
   ]
  },
  {
   "cell_type": "markdown",
   "metadata": {},
   "source": [
    "## Formatting Electricity Data\n",
    "\n",
    "The following steps have to be performed to put the electricity data into the desired format:\n",
    "\n",
    "- Convert the \"Timestamp\" column into a \"DateTime\" column\n",
    "- Set the newly created \"Date\" column as the index -> timeseries data\n",
    "- Drop the now unused \"Timestamp\" column\n",
    "- Sum up all quarter hour datapoints up to receive columns with one hour accuracy, since the weather data     resolution is also only hourly"
   ]
  },
  {
   "cell_type": "code",
   "execution_count": 261,
   "metadata": {},
   "outputs": [],
   "source": [
    "df_el[\"Date\"] = pd.to_datetime(df_el[\"Timestamp\"], utc=True)\n",
    "df_el.set_index([\"Date\"], inplace=True)\n",
    "df_el.drop([\"Timestamp\"], inplace=True, axis=1)\n",
    "df_el = df_el.resample(\"h\").sum()\n",
    "df_el.reset_index(inplace=True)"
   ]
  },
  {
   "cell_type": "markdown",
   "metadata": {},
   "source": [
    "## Formatting Weather Data\n",
    "\n",
    "The following steps have to be performed to put the weather data into the desired format:\n",
    "\n",
    "- Convert the \"Datum\" column into a \"DateTime\" column\n",
    "- Set the newly created \"Date\" column as the index -> timeseries data\n",
    "- Only keep entries for the measurement station \"Zch_Stampfenbachstrasse\" -> Station with most Datapoints\n",
    "- Extend the values in the \"Parameter\" column with the values in the \"Einheit\" column\n",
    "- Drop the unused columns \"Datum\", \"Intervall\", \"Standort\" and \"Einheit\"\n",
    "- Pivot the table to have all Parameters as columns with their respective \"Wert\" as values. In this step the DataFrame is also reduced to one entry per hour from the previous eight entries\n"
   ]
  },
  {
   "cell_type": "code",
   "execution_count": 262,
   "metadata": {},
   "outputs": [],
   "source": [
    "df_wthr[\"Date\"] = pd.to_datetime(df_wthr[\"Datum\"], utc=True)\n",
    "df_wthr.set_index([\"Date\"], inplace=True)\n",
    "df_wthr = df_wthr[df_wthr[\"Standort\"] == \"Zch_Stampfenbachstrasse\"]\n",
    "df_wthr['Parameter'] = df_wthr['Parameter'] + ' [' + df_wthr['Einheit'] + \"]\"\n",
    "df_wthr.drop([\"Datum\", \"Intervall\", \"Standort\", \"Einheit\"], inplace=True, axis=1)\n",
    "df_wthr = df_wthr.pivot(columns='Parameter', values='Wert')\n",
    "df_wthr.reset_index(inplace=True)"
   ]
  },
  {
   "cell_type": "markdown",
   "metadata": {},
   "source": [
    "## Formatting Holiday Data\n",
    "\n",
    "The following steps have to be performed to put the holiday data into the desired format:\n",
    "\n",
    "- Convert the \"Datum\" column into a \"DateTime\" column\n",
    "- Set the newly created \"Date\" column as the index -> timeseries data\n",
    "- Drop the unused columns \"Datum\" and \"Feiertag\"\n",
    "- Rename the remaining column \"Typ\" to \"Holiday Type\"\n",
    "- Expand the DataFrame so each hour of each day has an entry with the value of the respective holiday type\n",
    "- Reset the index so the \"Date\" entry is once again a column\n"
   ]
  },
  {
   "cell_type": "code",
   "execution_count": 263,
   "metadata": {},
   "outputs": [],
   "source": [
    "df_hlds[\"Date\"] = pd.to_datetime(df_hlds[\"Datum\"], utc=True)\n",
    "df_hlds[\"Date\"] = df_hlds[\"Date\"] - pd.Timedelta(hours=1)\n",
    "df_hlds.set_index([\"Date\"], inplace=True)\n",
    "df_hlds.drop([\"Datum\", \"Feiertag\"], inplace=True, axis=1)\n",
    "df_hlds.rename(columns={\"Typ\": \"Holiday Type\"}, inplace=True)"
   ]
  },
  {
   "cell_type": "code",
   "execution_count": 264,
   "metadata": {},
   "outputs": [],
   "source": [
    "expanded_rows = []\n",
    "for idx, row in df_hlds.iterrows():\n",
    "    date_range = pd.date_range(start=idx, end=idx + pd.Timedelta(hours=23), freq=\"h\")\n",
    "    expanded_rows.append(pd.DataFrame({'Holiday': 1}, index=date_range))\n",
    "\n",
    "df_hlds = pd.concat(expanded_rows)"
   ]
  },
  {
   "cell_type": "code",
   "execution_count": 265,
   "metadata": {},
   "outputs": [],
   "source": [
    "df_hlds.reset_index(inplace=True)\n",
    "df_hlds.rename(columns={\"index\": \"Date\"}, inplace=True)"
   ]
  },
  {
   "cell_type": "markdown",
   "metadata": {},
   "source": [
    "## Formatting School Vacation Data\n",
    "\n",
    "The following steps have to be performed to put the school vacation data into the desired format:\n",
    "\n",
    "- Convert the \"Datum\" column into a \"DateTime\" column\n",
    "- Set the newly created \"Date\" column as the index -> timeseries data\n",
    "- Drop the unused columns \"Datum\" and \"Ferien\"\n",
    "- Expand the DataFrame so each hour of each day has an entry with value 1 for school vacation from a respective \"Start\" to \"Stop\"\n",
    "- Reset the index so the \"Date\" entry is once again a column\n"
   ]
  },
  {
   "cell_type": "code",
   "execution_count": 266,
   "metadata": {},
   "outputs": [],
   "source": [
    "df_vctn[\"Date\"] = pd.to_datetime(df_vctn[\"Datum\"], utc=True)\n",
    "df_vctn[\"Date\"] = df_vctn[\"Date\"] - pd.Timedelta(hours=1)\n",
    "df_vctn.set_index([\"Date\"], inplace=True)\n",
    "df_vctn.drop([\"Datum\", \"Ferien\"], inplace=True, axis=1)"
   ]
  },
  {
   "cell_type": "code",
   "execution_count": 267,
   "metadata": {},
   "outputs": [],
   "source": [
    "expanded_rows = []\n",
    "start_date = None\n",
    "for idx, row in df_vctn.iterrows():\n",
    "    if row['Start/Stop'] == 'Start':\n",
    "        start_date = idx  # Store the Start date\n",
    "    elif row['Start/Stop'] == 'Stop' and start_date is not None:\n",
    "        date_range = pd.date_range(start=start_date, end=idx - pd.Timedelta(hours=1), freq=\"h\")\n",
    "        expanded_rows.append(pd.DataFrame({'Vacation': 1}, index=date_range))\n",
    "        start_date = None\n",
    "\n",
    "df_vctn = pd.concat(expanded_rows)\n"
   ]
  },
  {
   "cell_type": "code",
   "execution_count": 268,
   "metadata": {},
   "outputs": [],
   "source": [
    "df_vctn.reset_index(inplace=True)\n",
    "df_vctn.rename(columns={\"index\": \"Date\"}, inplace=True)"
   ]
  },
  {
   "cell_type": "markdown",
   "metadata": {},
   "source": [
    "## Combine Tables\n",
    "\n",
    "From the previously formatted DataFrames, create a single one containing all the information\n",
    "\n",
    "Afterwards, fill all \"NaN\" values for the columnns \"Vacation\" and \"Holiday_Type\", because if they are \"NaN\" this means that these days are not vacation days or holidays.\n",
    "\n",
    "In the end, drop all rows where no electricity data is available, since they are not usable for this project."
   ]
  },
  {
   "cell_type": "code",
   "execution_count": 269,
   "metadata": {},
   "outputs": [],
   "source": [
    "df = pd.merge(df_el, df_wthr, how='outer', on=\"Date\")\n",
    "df = pd.merge(df, df_vctn, how=\"left\", on=\"Date\")\n",
    "df = pd.merge(df, df_hlds, how=\"left\", on=\"Date\")"
   ]
  },
  {
   "cell_type": "code",
   "execution_count": 270,
   "metadata": {},
   "outputs": [],
   "source": [
    "df[\"Vacation\"] = df[\"Vacation\"].fillna(0)\n",
    "df[\"Holiday\"] = df[\"Holiday\"].fillna(0)"
   ]
  },
  {
   "cell_type": "markdown",
   "metadata": {},
   "source": [
    "# Save Data\n",
    "\n",
    "The formatted data is once again stored in an external file for quick an easy reload in other notebooks"
   ]
  },
  {
   "cell_type": "code",
   "execution_count": 271,
   "metadata": {},
   "outputs": [],
   "source": "df.to_parquet(\"./data/formatted_source_data.parquet\", engine=\"pyarrow\")"
  }
 ],
 "metadata": {
  "kernelspec": {
   "display_name": ".env3",
   "language": "python",
   "name": "python3"
  },
  "language_info": {
   "codemirror_mode": {
    "name": "ipython",
    "version": 3
   },
   "file_extension": ".py",
   "mimetype": "text/x-python",
   "name": "python",
   "nbconvert_exporter": "python",
   "pygments_lexer": "ipython3",
   "version": "3.12.6"
  }
 },
 "nbformat": 4,
 "nbformat_minor": 2
}
