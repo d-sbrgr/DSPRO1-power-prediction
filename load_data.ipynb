{
 "cells": [
  {
   "cell_type": "code",
   "execution_count": 3,
   "metadata": {},
   "outputs": [],
   "source": [
    "import pandas as pd"
   ]
  },
  {
   "cell_type": "markdown",
   "metadata": {},
   "source": [
    "# Load data\n",
    "\n",
    "Data is loaded into two separate DataFrames, one for the electricity data and one for the weather data"
   ]
  },
  {
   "cell_type": "code",
   "execution_count": 4,
   "metadata": {},
   "outputs": [],
   "source": [
    "df_el = pd.read_csv(\"./data/ewz_stromabgabe_netzebenen_stadt_zuerich.csv\")"
   ]
  },
  {
   "cell_type": "code",
   "execution_count": null,
   "metadata": {},
   "outputs": [],
   "source": [
    "frames = []\n",
    "for i in range(15, 25, 1):\n",
    "    frames.append(pd.read_csv(f\"./data/ugz_ogd_meteo_h1_20{i}.csv\"))\n",
    "df_wthr = pd.concat(frames)"
   ]
  },
  {
   "cell_type": "markdown",
   "metadata": {},
   "source": [
    "# Format data\n",
    "\n",
    "The underlying data is not yet in a usable format for this project, therefore before any data analysis can be done, first the data has be put into a usable format"
   ]
  },
  {
   "cell_type": "markdown",
   "metadata": {},
   "source": [
    "## Formatting Electricity Data\n",
    "\n",
    "The following steps have to be performed to put the electricity data into the desired format:\n",
    "\n",
    "- Convert the \"Timestamp\" column into a \"DateTime\" column\n",
    "- Set the newly created \"Date\" column as the index -> timeseries data\n",
    "- Drop the now unused \"Timestamp\" column\n",
    "- Sum up all quarter hour datapoints up to receive columns with one hour accuracy, since the weather data     resolution is also only hourly"
   ]
  },
  {
   "cell_type": "code",
   "execution_count": 5,
   "metadata": {},
   "outputs": [],
   "source": [
    "df_el[\"Date\"] = pd.to_datetime(df_el[\"Timestamp\"], utc=True)\n",
    "df_el.set_index([\"Date\"], inplace=True)\n",
    "df_el.drop([\"Timestamp\"], inplace=True, axis=1)\n",
    "df_el = df_el.resample(\"h\").sum()"
   ]
  },
  {
   "cell_type": "markdown",
   "metadata": {},
   "source": [
    "## Formatting Weather Data\n",
    "\n",
    "The following steps have to be performed to put the electricity data into the desired format:\n",
    "\n",
    "- Convert the \"Datum\" column into a \"DateTime\" column\n",
    "- Set the newly created \"Date\" column as the index -> timeseries data\n",
    "- Only keep entries for the measurement station \"Zch_Stampfenbachstrasse\" -> Station with most Datapoints\n",
    "- Extend the values in the \"Parameter\" column with the values in the \"Einheit\" column\n",
    "- Drop the unused columns \"Datum\", \"Intervall\", \"Standort\" and \"Einheit\"\n",
    "- Pivot the table to have all Parameters as columns with their respective \"Wert\" as values. In this step the DataFrame is also reduced to one entry per hour from the previous eight entries\n"
   ]
  },
  {
   "cell_type": "code",
   "execution_count": 8,
   "metadata": {},
   "outputs": [],
   "source": [
    "df_wthr[\"Date\"] = pd.to_datetime(df_wthr[\"Datum\"], utc=True)\n",
    "df_wthr.set_index([\"Date\"], inplace=True)\n",
    "df_wthr = df_wthr[df_wthr[\"Standort\"] == \"Zch_Stampfenbachstrasse\"]\n",
    "df_wthr['Parameter'] = df_wthr['Parameter'] + ' [' + df_wthr['Einheit'] + \"]\"\n",
    "df_wthr.drop([\"Datum\", \"Intervall\", \"Standort\", \"Einheit\"], inplace=True, axis=1)\n",
    "df_wthr = df_wthr.pivot(columns='Parameter', values='Wert')"
   ]
  },
  {
   "cell_type": "markdown",
   "metadata": {},
   "source": [
    "## Combine both tables\n",
    "\n",
    "From the previously formatted DataFrames, a single one containing all the information required can be produced"
   ]
  },
  {
   "cell_type": "code",
   "execution_count": 10,
   "metadata": {},
   "outputs": [],
   "source": [
    "df = df_wthr.join(df_el, how=\"inner\")"
   ]
  },
  {
   "cell_type": "code",
   "execution_count": 11,
   "metadata": {},
   "outputs": [
    {
     "data": {
      "text/html": [
       "<div>\n",
       "<style scoped>\n",
       "    .dataframe tbody tr th:only-of-type {\n",
       "        vertical-align: middle;\n",
       "    }\n",
       "\n",
       "    .dataframe tbody tr th {\n",
       "        vertical-align: top;\n",
       "    }\n",
       "\n",
       "    .dataframe thead th {\n",
       "        text-align: right;\n",
       "    }\n",
       "</style>\n",
       "<table border=\"1\" class=\"dataframe\">\n",
       "  <thead>\n",
       "    <tr style=\"text-align: right;\">\n",
       "      <th></th>\n",
       "      <th>Hr [%Hr]</th>\n",
       "      <th>RainDur [min]</th>\n",
       "      <th>StrGlo [W/m2]</th>\n",
       "      <th>T [°C]</th>\n",
       "      <th>WD [°]</th>\n",
       "      <th>WVs [m/s]</th>\n",
       "      <th>WVv [m/s]</th>\n",
       "      <th>p [hPa]</th>\n",
       "      <th>Value_NE5</th>\n",
       "      <th>Value_NE7</th>\n",
       "    </tr>\n",
       "    <tr>\n",
       "      <th>Date</th>\n",
       "      <th></th>\n",
       "      <th></th>\n",
       "      <th></th>\n",
       "      <th></th>\n",
       "      <th></th>\n",
       "      <th></th>\n",
       "      <th></th>\n",
       "      <th></th>\n",
       "      <th></th>\n",
       "      <th></th>\n",
       "    </tr>\n",
       "  </thead>\n",
       "  <tbody>\n",
       "    <tr>\n",
       "      <th>2014-12-31 23:00:00+00:00</th>\n",
       "      <td>89.25</td>\n",
       "      <td>0.0</td>\n",
       "      <td>0.02</td>\n",
       "      <td>-2.09</td>\n",
       "      <td>20.41</td>\n",
       "      <td>1.40</td>\n",
       "      <td>1.40</td>\n",
       "      <td>982.80</td>\n",
       "      <td>65674.7507</td>\n",
       "      <td>135628.059644</td>\n",
       "    </tr>\n",
       "    <tr>\n",
       "      <th>2015-01-01 00:00:00+00:00</th>\n",
       "      <td>90.47</td>\n",
       "      <td>0.0</td>\n",
       "      <td>0.01</td>\n",
       "      <td>-2.48</td>\n",
       "      <td>353.85</td>\n",
       "      <td>0.61</td>\n",
       "      <td>0.60</td>\n",
       "      <td>982.64</td>\n",
       "      <td>88747.5885</td>\n",
       "      <td>172742.750946</td>\n",
       "    </tr>\n",
       "    <tr>\n",
       "      <th>2015-01-01 01:00:00+00:00</th>\n",
       "      <td>89.45</td>\n",
       "      <td>0.0</td>\n",
       "      <td>0.02</td>\n",
       "      <td>-2.46</td>\n",
       "      <td>21.48</td>\n",
       "      <td>1.31</td>\n",
       "      <td>1.31</td>\n",
       "      <td>983.00</td>\n",
       "      <td>86864.5321</td>\n",
       "      <td>173541.200194</td>\n",
       "    </tr>\n",
       "    <tr>\n",
       "      <th>2015-01-01 02:00:00+00:00</th>\n",
       "      <td>89.20</td>\n",
       "      <td>0.0</td>\n",
       "      <td>0.02</td>\n",
       "      <td>-2.63</td>\n",
       "      <td>12.22</td>\n",
       "      <td>1.70</td>\n",
       "      <td>1.66</td>\n",
       "      <td>982.93</td>\n",
       "      <td>84158.7339</td>\n",
       "      <td>162802.863240</td>\n",
       "    </tr>\n",
       "    <tr>\n",
       "      <th>2015-01-01 03:00:00+00:00</th>\n",
       "      <td>89.56</td>\n",
       "      <td>0.0</td>\n",
       "      <td>0.02</td>\n",
       "      <td>-2.77</td>\n",
       "      <td>8.30</td>\n",
       "      <td>1.23</td>\n",
       "      <td>1.21</td>\n",
       "      <td>983.03</td>\n",
       "      <td>81133.3041</td>\n",
       "      <td>154123.513780</td>\n",
       "    </tr>\n",
       "  </tbody>\n",
       "</table>\n",
       "</div>"
      ],
      "text/plain": [
       "                           Hr [%Hr]  RainDur [min]  StrGlo [W/m2]  T [°C]  \\\n",
       "Date                                                                        \n",
       "2014-12-31 23:00:00+00:00     89.25            0.0           0.02   -2.09   \n",
       "2015-01-01 00:00:00+00:00     90.47            0.0           0.01   -2.48   \n",
       "2015-01-01 01:00:00+00:00     89.45            0.0           0.02   -2.46   \n",
       "2015-01-01 02:00:00+00:00     89.20            0.0           0.02   -2.63   \n",
       "2015-01-01 03:00:00+00:00     89.56            0.0           0.02   -2.77   \n",
       "\n",
       "                           WD [°]  WVs [m/s]  WVv [m/s]  p [hPa]   Value_NE5  \\\n",
       "Date                                                                           \n",
       "2014-12-31 23:00:00+00:00   20.41       1.40       1.40   982.80  65674.7507   \n",
       "2015-01-01 00:00:00+00:00  353.85       0.61       0.60   982.64  88747.5885   \n",
       "2015-01-01 01:00:00+00:00   21.48       1.31       1.31   983.00  86864.5321   \n",
       "2015-01-01 02:00:00+00:00   12.22       1.70       1.66   982.93  84158.7339   \n",
       "2015-01-01 03:00:00+00:00    8.30       1.23       1.21   983.03  81133.3041   \n",
       "\n",
       "                               Value_NE7  \n",
       "Date                                      \n",
       "2014-12-31 23:00:00+00:00  135628.059644  \n",
       "2015-01-01 00:00:00+00:00  172742.750946  \n",
       "2015-01-01 01:00:00+00:00  173541.200194  \n",
       "2015-01-01 02:00:00+00:00  162802.863240  \n",
       "2015-01-01 03:00:00+00:00  154123.513780  "
      ]
     },
     "execution_count": 11,
     "metadata": {},
     "output_type": "execute_result"
    }
   ],
   "source": [
    "df.head(5)"
   ]
  }
 ],
 "metadata": {
  "kernelspec": {
   "display_name": ".env3",
   "language": "python",
   "name": "python3"
  },
  "language_info": {
   "codemirror_mode": {
    "name": "ipython",
    "version": 3
   },
   "file_extension": ".py",
   "mimetype": "text/x-python",
   "name": "python",
   "nbconvert_exporter": "python",
   "pygments_lexer": "ipython3",
   "version": "3.12.6"
  }
 },
 "nbformat": 4,
 "nbformat_minor": 2
}
