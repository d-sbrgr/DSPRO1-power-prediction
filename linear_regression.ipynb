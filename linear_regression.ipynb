{
 "cells": [
  {
   "metadata": {},
   "cell_type": "markdown",
   "source": [
    "# Linear Regression\n",
    "### Imports"
   ],
   "id": "bc78bee6eb69ebae"
  },
  {
   "metadata": {
    "ExecuteTime": {
     "end_time": "2024-11-08T11:55:26.372439Z",
     "start_time": "2024-11-08T11:55:24.784892Z"
    }
   },
   "cell_type": "code",
   "source": [
    "from sklearn.linear_model import LinearRegression\n",
    "from sklearn.metrics import mean_absolute_error, mean_squared_error, r2_score, mean_absolute_percentage_error\n",
    "from power_prediction.util import split_data_train_test\n",
    "from power_prediction.preprocess_data import read_time_decomposition_remainder_data"
   ],
   "id": "faa7876c7813f8bb",
   "outputs": [],
   "execution_count": 1
  },
  {
   "metadata": {},
   "cell_type": "markdown",
   "source": [
    "### Prepare the datasets\n",
    "##### Three models are being trained. In the first model, the NE5 data serves as the predictor. In the second model, the NE7 values are used, and in the final model, the combined values are used."
   ],
   "id": "a7540d93bceab769"
  },
  {
   "metadata": {
    "ExecuteTime": {
     "end_time": "2024-11-08T11:55:26.579491Z",
     "start_time": "2024-11-08T11:55:26.377385Z"
    }
   },
   "cell_type": "code",
   "source": [
    "df = read_time_decomposition_remainder_data()\n",
    "df['NE5_origin'] = df['NE5_remainder'] + df['NE5_yhat']\n",
    "df['NE7_origin'] = df['NE7_remainder'] + df['NE7_yhat']\n",
    "df['NETOT_origin'] = df['NETOT_remainder'] + df['NETOT_yhat']\n",
    "train_df, test_df = split_data_train_test(df)\n",
    "train_df = train_df.dropna()\n",
    "test_df = test_df.dropna()\n",
    "\n",
    "# Train data set\n",
    "X_train = train_df[['Hr [%Hr]', 'RainDur [min]', 'StrGlo [W/m2]', 'T [°C]','WD [°]', 'WVs [m/s]', 'WVv [m/s]', 'p [hPa]']]\n",
    "y_train_ne5 = train_df[['NE5_remainder']]\n",
    "y_train_ne7 = train_df[['NE7_remainder']]\n",
    "y_train_tot = train_df[['NETOT_remainder']]\n",
    "\n",
    "# Test data set\n",
    "X_test = test_df[['Hr [%Hr]', 'RainDur [min]', 'StrGlo [W/m2]', 'T [°C]','WD [°]', 'WVs [m/s]', 'WVv [m/s]', 'p [hPa]']]\n",
    "y_test_ne5_all = test_df[['NE5_origin']]\n",
    "y_test_ne7_all = test_df[['NE7_origin']]\n",
    "y_test_tot_all = test_df[['NETOT_origin']]\n",
    "\n",
    "y_test_ne5 = test_df[['NE5_remainder']]\n",
    "y_test_ne7 = test_df[['NE7_remainder']]\n",
    "y_test_tot = test_df[['NETOT_remainder']]"
   ],
   "id": "d292017085a2bef4",
   "outputs": [],
   "execution_count": 2
  },
  {
   "metadata": {},
   "cell_type": "markdown",
   "source": "### Train the models",
   "id": "e530ae5ebc77d33c"
  },
  {
   "metadata": {
    "ExecuteTime": {
     "end_time": "2024-11-08T11:55:26.849702Z",
     "start_time": "2024-11-08T11:55:26.802591Z"
    }
   },
   "cell_type": "code",
   "source": [
    "model_ne5 = LinearRegression()\n",
    "model_ne5.fit(X_train, y_train_ne5)\n",
    "\n",
    "model_ne7 = LinearRegression()\n",
    "model_ne7.fit(X_train, y_train_ne7)\n",
    "\n",
    "model_tot = LinearRegression()\n",
    "model_tot.fit(X_train, y_train_tot)\n",
    "print()"
   ],
   "id": "d8bd92e7c08fc917",
   "outputs": [
    {
     "name": "stdout",
     "output_type": "stream",
     "text": [
      "\n"
     ]
    }
   ],
   "execution_count": 3
  },
  {
   "metadata": {},
   "cell_type": "markdown",
   "source": [
    "### Evaluation models\n",
    "##### Model NE5"
   ],
   "id": "b6be75914be5142d"
  },
  {
   "metadata": {
    "ExecuteTime": {
     "end_time": "2024-11-08T11:55:26.911374Z",
     "start_time": "2024-11-08T11:55:26.892727Z"
    }
   },
   "cell_type": "code",
   "source": [
    "y_pred_ne5 = model_ne5.predict(X_test)\n",
    "y_pred_ne5_comp = y_pred_ne5[:, 0] + test_df['NE5_yhat'].to_numpy()\n",
    "\n",
    "mae = mean_absolute_error(y_test_ne5, y_pred_ne5)\n",
    "mse = mean_squared_error(y_test_ne5, y_pred_ne5)\n",
    "r2 = r2_score(y_test_ne5, y_pred_ne5)\n",
    "mape = mean_absolute_percentage_error(y_test_ne5, y_pred_ne5)\n",
    "\n",
    "print(\"Model evaluation\")\n",
    "print(f\"Mean Absolute Error (MAE): {mae}\")\n",
    "print(f\"Mean Squared Error (MSE): {mse}\")\n",
    "print(f\"R² Score: {r2}\")\n",
    "print(f\"Mean Absolute Percentage Error (MAPE): {mape}\\n\")\n",
    "\n",
    "mae_all = mean_absolute_error(y_test_ne5_all, y_pred_ne5_comp)\n",
    "mse_all = mean_squared_error(y_test_ne5_all, y_pred_ne5_comp)\n",
    "r2_all = r2_score(y_test_ne5_all, y_pred_ne5_comp)\n",
    "mape_all = mean_absolute_percentage_error(y_test_ne5_all, y_pred_ne5_comp)\n",
    "\n",
    "print(\"Over all evaluation\")\n",
    "print(f\"Mean Absolute Error (MAE): {mae_all}\")\n",
    "print(f\"Mean Squared Error (MSE): {mse_all}\")\n",
    "print(f\"R² Score: {r2_all}\")\n",
    "print(f\"Mean Absolute Percentage Error (MAPE): {mape_all}\")"
   ],
   "id": "cbd4dab0518dd9dd",
   "outputs": [
    {
     "name": "stdout",
     "output_type": "stream",
     "text": [
      "Model evaluation\n",
      "Mean Absolute Error (MAE): 5867.675211915305\n",
      "Mean Squared Error (MSE): 59338285.20038373\n",
      "R² Score: 0.0038287467799986707\n",
      "Mean Absolute Percentage Error (MAPE): 1.4076772188232152\n",
      "\n",
      "Over all evaluation\n",
      "Mean Absolute Error (MAE): 5867.675211915305\n",
      "Mean Squared Error (MSE): 59338285.20038373\n",
      "R² Score: 0.8178646586413172\n",
      "Mean Absolute Percentage Error (MAPE): 0.06572603738435466\n"
     ]
    }
   ],
   "execution_count": 4
  },
  {
   "metadata": {},
   "cell_type": "markdown",
   "source": "##### Model NE7",
   "id": "657c7de2fdde876e"
  },
  {
   "metadata": {
    "ExecuteTime": {
     "end_time": "2024-11-08T11:55:27.019099Z",
     "start_time": "2024-11-08T11:55:27.001157Z"
    }
   },
   "cell_type": "code",
   "source": [
    "y_pred_ne7 = model_ne7.predict(X_test)\n",
    "y_pred_ne7_comp = y_pred_ne7[:, 0] + test_df['NE7_yhat'].to_numpy()\n",
    "\n",
    "mae = mean_absolute_error(y_test_ne7, y_pred_ne7)\n",
    "mse = mean_squared_error(y_test_ne7, y_pred_ne7)\n",
    "r2 = r2_score(y_test_ne7, y_pred_ne7)\n",
    "mape = mean_absolute_percentage_error(y_test_ne7, y_pred_ne7)\n",
    "\n",
    "print(\"Model evaluation\")\n",
    "print(f\"Mean Absolute Error (MAE): {mae}\")\n",
    "print(f\"Mean Squared Error (MSE): {mse}\")\n",
    "print(f\"R² Score: {r2}\")\n",
    "print(f\"Mean Absolute Percentage Error (MAPE): {mape}\\n\")\n",
    "\n",
    "mae_all = mean_absolute_error(y_test_ne7_all, y_pred_ne7_comp)\n",
    "mse_all = mean_squared_error(y_test_ne7_all, y_pred_ne7_comp)\n",
    "r2_all = r2_score(y_test_ne7_all, y_pred_ne7_comp)\n",
    "mape_all = mean_absolute_percentage_error(y_test_ne7_all, y_pred_ne7_comp)\n",
    "\n",
    "print(\"Over all evaluation\")\n",
    "print(f\"Mean Absolute Error (MAE): {mae_all}\")\n",
    "print(f\"Mean Squared Error (MSE): {mse_all}\")\n",
    "print(f\"R² Score: {r2_all}\")\n",
    "print(f\"Mean Absolute Percentage Error (MAPE): {mape_all}\")"
   ],
   "id": "85be7d0de2d7e42c",
   "outputs": [
    {
     "name": "stdout",
     "output_type": "stream",
     "text": [
      "Model evaluation\n",
      "Mean Absolute Error (MAE): 25100.894583577756\n",
      "Mean Squared Error (MSE): 886304013.6436092\n",
      "R² Score: 0.15665214549916817\n",
      "Mean Absolute Percentage Error (MAPE): 0.31075006852964987\n",
      "\n",
      "Over all evaluation\n",
      "Mean Absolute Error (MAE): 25100.894583577756\n",
      "Mean Squared Error (MSE): 886304013.6436092\n",
      "R² Score: 0.8424334429512619\n",
      "Mean Absolute Percentage Error (MAPE): 0.09482412001570112\n"
     ]
    }
   ],
   "execution_count": 5
  },
  {
   "metadata": {},
   "cell_type": "markdown",
   "source": "##### NE5 + NE7",
   "id": "7e72c3309a4355bc"
  },
  {
   "metadata": {
    "ExecuteTime": {
     "end_time": "2024-11-08T11:55:27.046242Z",
     "start_time": "2024-11-08T11:55:27.029299Z"
    }
   },
   "cell_type": "code",
   "source": [
    "y_pred_ne5_ne7_comp = y_pred_ne5_comp + y_pred_ne7_comp\n",
    "y_pred_ne5_ne7 = y_pred_ne5 + y_pred_ne7\n",
    "\n",
    "mae = mean_absolute_error(y_test_tot, y_pred_ne5_ne7)\n",
    "mse = mean_squared_error(y_test_tot, y_pred_ne5_ne7)\n",
    "r2 = r2_score(y_test_tot, y_pred_ne5_ne7)\n",
    "mape = mean_absolute_percentage_error(y_test_tot, y_pred_ne5_ne7)\n",
    "\n",
    "print(\"Model evaluation\")\n",
    "print(f\"Mean Absolute Error (MAE): {mae}\")\n",
    "print(f\"Mean Squared Error (MSE): {mse}\")\n",
    "print(f\"R² Score: {r2}\")\n",
    "print(f\"Mean Absolute Percentage Error (MAPE): {mape}\\n\")\n",
    "\n",
    "mae_all = mean_absolute_error(y_test_tot_all, y_pred_ne5_ne7_comp)\n",
    "mse_all = mean_squared_error(y_test_tot_all, y_pred_ne5_ne7_comp)\n",
    "r2_all = r2_score(y_test_tot_all, y_pred_ne5_ne7_comp)\n",
    "mape_all = mean_absolute_percentage_error(y_test_tot_all, y_pred_ne5_ne7_comp)\n",
    "\n",
    "print(\"Over all evaluation\")\n",
    "print(f\"Mean Absolute Error (MAE): {mae_all}\")\n",
    "print(f\"Mean Squared Error (MSE): {mse_all}\")\n",
    "print(f\"R² Score: {r2_all}\")\n",
    "print(f\"Mean Absolute Percentage Error (MAPE): {mape_all}\")"
   ],
   "id": "114103f65d506ad1",
   "outputs": [
    {
     "name": "stdout",
     "output_type": "stream",
     "text": [
      "Model evaluation\n",
      "Mean Absolute Error (MAE): 102040.00911328646\n",
      "Mean Squared Error (MSE): 11163279925.594234\n",
      "R² Score: -21.962901256299464\n",
      "Mean Absolute Percentage Error (MAPE): 38.94846670147325\n",
      "\n",
      "Over all evaluation\n",
      "Mean Absolute Error (MAE): 102042.12403023963\n",
      "Mean Squared Error (MSE): 11162896379.20598\n",
      "R² Score: -1.919326820608834\n",
      "Mean Absolute Percentage Error (MAPE): 0.35931507015899083\n"
     ]
    }
   ],
   "execution_count": 6
  },
  {
   "metadata": {},
   "cell_type": "markdown",
   "source": "##### NETOT",
   "id": "3d684aa0d63b8eb3"
  },
  {
   "metadata": {
    "ExecuteTime": {
     "end_time": "2024-11-08T11:55:27.117511Z",
     "start_time": "2024-11-08T11:55:27.098983Z"
    }
   },
   "cell_type": "code",
   "source": [
    "y_pred_tot = model_tot.predict(X_test)\n",
    "y_pred_tot_comp = y_pred_tot[:, 0] + test_df['NETOT_yhat'].to_numpy()\n",
    "\n",
    "mae = mean_absolute_error(y_test_tot, y_pred_tot)\n",
    "mse = mean_squared_error(y_test_tot, y_pred_tot)\n",
    "r2 = r2_score(y_test_tot, y_pred_tot)\n",
    "mape = mean_absolute_percentage_error(y_test_tot, y_pred_tot)\n",
    "\n",
    "print(\"Model evaluation\")\n",
    "print(f\"Mean Absolute Error (MAE): {mae}\")\n",
    "print(f\"Mean Squared Error (MSE): {mse}\")\n",
    "print(f\"R² Score: {r2}\")\n",
    "print(f\"Mean Absolute Percentage Error (MAPE): {mape}\\n\")\n",
    "\n",
    "mae_all = mean_absolute_error(y_test_tot_all, y_pred_tot_comp)\n",
    "mse_all = mean_squared_error(y_test_tot_all, y_pred_tot_comp)\n",
    "r2_all = r2_score(y_test_tot_all, y_pred_tot_comp)\n",
    "mape_all = mean_absolute_percentage_error(y_test_tot_all, y_pred_tot_comp)\n",
    "\n",
    "print(\"Over all evaluation\")\n",
    "print(f\"Mean Absolute Error (MAE): {mae_all}\")\n",
    "print(f\"Mean Squared Error (MSE): {mse_all}\")\n",
    "print(f\"R² Score: {r2_all}\")\n",
    "print(f\"Mean Absolute Percentage Error (MAPE): {mape_all}\")"
   ],
   "id": "83661a773eeccbc0",
   "outputs": [
    {
     "name": "stdout",
     "output_type": "stream",
     "text": [
      "Model evaluation\n",
      "Mean Absolute Error (MAE): 16870.676055165583\n",
      "Mean Squared Error (MSE): 475604155.8989019\n",
      "R² Score: 0.021680783624102307\n",
      "Mean Absolute Percentage Error (MAPE): 1.2909172333799848\n",
      "\n",
      "Over all evaluation\n",
      "Mean Absolute Error (MAE): 16870.676055165583\n",
      "Mean Squared Error (MSE): 475604155.8989019\n",
      "R² Score: 0.8756197387180754\n",
      "Mean Absolute Percentage Error (MAPE): 0.06276003741754559\n"
     ]
    }
   ],
   "execution_count": 7
  }
 ],
 "metadata": {
  "kernelspec": {
   "display_name": "Python 3",
   "language": "python",
   "name": "python3"
  },
  "language_info": {
   "codemirror_mode": {
    "name": "ipython",
    "version": 2
   },
   "file_extension": ".py",
   "mimetype": "text/x-python",
   "name": "python",
   "nbconvert_exporter": "python",
   "pygments_lexer": "ipython2",
   "version": "2.7.6"
  }
 },
 "nbformat": 4,
 "nbformat_minor": 5
}
