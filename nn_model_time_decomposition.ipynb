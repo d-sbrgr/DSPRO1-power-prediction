{
 "cells": [
  {
   "cell_type": "code",
   "id": "initial_id",
   "metadata": {
    "ExecuteTime": {
     "end_time": "2024-11-11T17:11:33.377648Z",
     "start_time": "2024-11-11T17:11:33.276466Z"
    }
   },
   "source": [
    "import seaborn as sns\n",
    "import matplotlib.pyplot as plt\n",
    "import matplotlib.dates as mdates\n",
    "\n",
    "import pandas as pd\n",
    "import numpy as np\n",
    "from tqdm.notebook import tqdm\n",
    "\n",
    "import torch\n",
    "import torch.nn as nn\n",
    "from sklearn.preprocessing import StandardScaler\n",
    "from sklearn.metrics import mean_squared_error, mean_absolute_error, r2_score, mean_absolute_percentage_error\n",
    "from sklearn.model_selection import train_test_split\n",
    "from torch.utils.data import DataLoader, TensorDataset\n",
    "from power_prediction.plotting_functions import *"
   ],
   "outputs": [],
   "execution_count": 47
  },
  {
   "cell_type": "code",
   "execution_count": 2,
   "id": "cf965b96-d9ae-4ba2-87bc-fbcdb3eb1d8e",
   "metadata": {},
   "outputs": [
    {
     "name": "stdout",
     "output_type": "stream",
     "text": [
      "Using device: cuda\n"
     ]
    }
   ],
   "source": [
    "# Check if GPU is available\n",
    "device = torch.device(\"cuda\" if torch.cuda.is_available() else \"cpu\")\n",
    "print(f\"Using device: {device}\")\n"
   ]
  },
  {
   "cell_type": "code",
   "execution_count": 3,
   "id": "a53e0d752a3b97eb",
   "metadata": {
    "ExecuteTime": {
     "end_time": "2024-11-08T12:15:50.756612Z",
     "start_time": "2024-11-08T12:15:50.723116Z"
    }
   },
   "outputs": [],
   "source": [
    "%matplotlib inline\n",
    "\n",
    "sns.set(style='whitegrid', palette='muted', font_scale=1.2)\n",
    "\n",
    "Colour_Palette = ['#01BEFE', '#FF7D00', '#FFDD00', '#FF006D', '#ADFF02', '#8F00FF']\n",
    "sns.set_palette(sns.color_palette(Colour_Palette))\n",
    "\n",
    "tqdm.pandas()"
   ]
  },
  {
   "cell_type": "code",
   "id": "d59f0e8fabb487fd",
   "metadata": {
    "ExecuteTime": {
     "end_time": "2024-11-11T17:20:54.040826Z",
     "start_time": "2024-11-11T17:20:53.870061Z"
    }
   },
   "source": [
    "df = pd.read_csv('./../data/time_decomposition_remainder_data.csv')\n",
    "df.head()\n"
   ],
   "outputs": [
    {
     "data": {
      "text/plain": [
       "   Unnamed: 0                 Date  Hr [%Hr]  RainDur [min]  StrGlo [W/m2]  \\\n",
       "0           0  2015-01-01 00:00:00     89.25            0.0           0.02   \n",
       "1           1  2015-01-01 01:00:00     90.47            0.0           0.01   \n",
       "2           2  2015-01-01 02:00:00     89.45            0.0           0.02   \n",
       "3           3  2015-01-01 03:00:00     89.20            0.0           0.02   \n",
       "4           4  2015-01-01 04:00:00     89.56            0.0           0.02   \n",
       "\n",
       "   T [°C]  WD [°]  WVs [m/s]  WVv [m/s]  p [hPa]  NE5_remainder      NE5_yhat  \\\n",
       "0   -2.09   20.41       1.40       1.40   982.80   -5003.234382  70677.985082   \n",
       "1   -2.48  353.85       0.61       0.60   982.64   21913.835976  66833.752524   \n",
       "2   -2.46   21.48       1.31       1.31   983.00   23077.501034  63787.031066   \n",
       "3   -2.63   12.22       1.70       1.66   982.93   20109.861970  64048.871930   \n",
       "4   -2.77    8.30       1.23       1.21   983.03   11981.773823  69151.530277   \n",
       "\n",
       "   NE7_remainder       NE7_yhat  NETOT_remainder     NETOT_yhat  \n",
       "0   64950.074562  139851.624086     -9274.801164  210577.611508  \n",
       "1  105908.998422  131060.948724     63548.937026  197941.402420  \n",
       "2  109754.169128  123579.654961     72992.933161  187412.799133  \n",
       "3   98753.991310  119454.426846     63411.904106  183549.693034  \n",
       "4   84971.983503  123196.135870     42861.776534  192395.041346  "
      ],
      "text/html": [
       "<div>\n",
       "<style scoped>\n",
       "    .dataframe tbody tr th:only-of-type {\n",
       "        vertical-align: middle;\n",
       "    }\n",
       "\n",
       "    .dataframe tbody tr th {\n",
       "        vertical-align: top;\n",
       "    }\n",
       "\n",
       "    .dataframe thead th {\n",
       "        text-align: right;\n",
       "    }\n",
       "</style>\n",
       "<table border=\"1\" class=\"dataframe\">\n",
       "  <thead>\n",
       "    <tr style=\"text-align: right;\">\n",
       "      <th></th>\n",
       "      <th>Unnamed: 0</th>\n",
       "      <th>Date</th>\n",
       "      <th>Hr [%Hr]</th>\n",
       "      <th>RainDur [min]</th>\n",
       "      <th>StrGlo [W/m2]</th>\n",
       "      <th>T [°C]</th>\n",
       "      <th>WD [°]</th>\n",
       "      <th>WVs [m/s]</th>\n",
       "      <th>WVv [m/s]</th>\n",
       "      <th>p [hPa]</th>\n",
       "      <th>NE5_remainder</th>\n",
       "      <th>NE5_yhat</th>\n",
       "      <th>NE7_remainder</th>\n",
       "      <th>NE7_yhat</th>\n",
       "      <th>NETOT_remainder</th>\n",
       "      <th>NETOT_yhat</th>\n",
       "    </tr>\n",
       "  </thead>\n",
       "  <tbody>\n",
       "    <tr>\n",
       "      <th>0</th>\n",
       "      <td>0</td>\n",
       "      <td>2015-01-01 00:00:00</td>\n",
       "      <td>89.25</td>\n",
       "      <td>0.0</td>\n",
       "      <td>0.02</td>\n",
       "      <td>-2.09</td>\n",
       "      <td>20.41</td>\n",
       "      <td>1.40</td>\n",
       "      <td>1.40</td>\n",
       "      <td>982.80</td>\n",
       "      <td>-5003.234382</td>\n",
       "      <td>70677.985082</td>\n",
       "      <td>64950.074562</td>\n",
       "      <td>139851.624086</td>\n",
       "      <td>-9274.801164</td>\n",
       "      <td>210577.611508</td>\n",
       "    </tr>\n",
       "    <tr>\n",
       "      <th>1</th>\n",
       "      <td>1</td>\n",
       "      <td>2015-01-01 01:00:00</td>\n",
       "      <td>90.47</td>\n",
       "      <td>0.0</td>\n",
       "      <td>0.01</td>\n",
       "      <td>-2.48</td>\n",
       "      <td>353.85</td>\n",
       "      <td>0.61</td>\n",
       "      <td>0.60</td>\n",
       "      <td>982.64</td>\n",
       "      <td>21913.835976</td>\n",
       "      <td>66833.752524</td>\n",
       "      <td>105908.998422</td>\n",
       "      <td>131060.948724</td>\n",
       "      <td>63548.937026</td>\n",
       "      <td>197941.402420</td>\n",
       "    </tr>\n",
       "    <tr>\n",
       "      <th>2</th>\n",
       "      <td>2</td>\n",
       "      <td>2015-01-01 02:00:00</td>\n",
       "      <td>89.45</td>\n",
       "      <td>0.0</td>\n",
       "      <td>0.02</td>\n",
       "      <td>-2.46</td>\n",
       "      <td>21.48</td>\n",
       "      <td>1.31</td>\n",
       "      <td>1.31</td>\n",
       "      <td>983.00</td>\n",
       "      <td>23077.501034</td>\n",
       "      <td>63787.031066</td>\n",
       "      <td>109754.169128</td>\n",
       "      <td>123579.654961</td>\n",
       "      <td>72992.933161</td>\n",
       "      <td>187412.799133</td>\n",
       "    </tr>\n",
       "    <tr>\n",
       "      <th>3</th>\n",
       "      <td>3</td>\n",
       "      <td>2015-01-01 03:00:00</td>\n",
       "      <td>89.20</td>\n",
       "      <td>0.0</td>\n",
       "      <td>0.02</td>\n",
       "      <td>-2.63</td>\n",
       "      <td>12.22</td>\n",
       "      <td>1.70</td>\n",
       "      <td>1.66</td>\n",
       "      <td>982.93</td>\n",
       "      <td>20109.861970</td>\n",
       "      <td>64048.871930</td>\n",
       "      <td>98753.991310</td>\n",
       "      <td>119454.426846</td>\n",
       "      <td>63411.904106</td>\n",
       "      <td>183549.693034</td>\n",
       "    </tr>\n",
       "    <tr>\n",
       "      <th>4</th>\n",
       "      <td>4</td>\n",
       "      <td>2015-01-01 04:00:00</td>\n",
       "      <td>89.56</td>\n",
       "      <td>0.0</td>\n",
       "      <td>0.02</td>\n",
       "      <td>-2.77</td>\n",
       "      <td>8.30</td>\n",
       "      <td>1.23</td>\n",
       "      <td>1.21</td>\n",
       "      <td>983.03</td>\n",
       "      <td>11981.773823</td>\n",
       "      <td>69151.530277</td>\n",
       "      <td>84971.983503</td>\n",
       "      <td>123196.135870</td>\n",
       "      <td>42861.776534</td>\n",
       "      <td>192395.041346</td>\n",
       "    </tr>\n",
       "  </tbody>\n",
       "</table>\n",
       "</div>"
      ]
     },
     "execution_count": 64,
     "metadata": {},
     "output_type": "execute_result"
    }
   ],
   "execution_count": 64
  },
  {
   "cell_type": "code",
   "id": "5ab0a6faab57fe9d",
   "metadata": {
    "ExecuteTime": {
     "end_time": "2024-11-11T17:20:54.725677Z",
     "start_time": "2024-11-11T17:20:54.704669Z"
    }
   },
   "source": [
    "# Drop unnamed columns\n",
    "df = df.loc[:, ~df.columns.str.contains('^Unnamed')]\n",
    "df.head()"
   ],
   "outputs": [
    {
     "data": {
      "text/plain": [
       "                  Date  Hr [%Hr]  RainDur [min]  StrGlo [W/m2]  T [°C]  \\\n",
       "0  2015-01-01 00:00:00     89.25            0.0           0.02   -2.09   \n",
       "1  2015-01-01 01:00:00     90.47            0.0           0.01   -2.48   \n",
       "2  2015-01-01 02:00:00     89.45            0.0           0.02   -2.46   \n",
       "3  2015-01-01 03:00:00     89.20            0.0           0.02   -2.63   \n",
       "4  2015-01-01 04:00:00     89.56            0.0           0.02   -2.77   \n",
       "\n",
       "   WD [°]  WVs [m/s]  WVv [m/s]  p [hPa]  NE5_remainder      NE5_yhat  \\\n",
       "0   20.41       1.40       1.40   982.80   -5003.234382  70677.985082   \n",
       "1  353.85       0.61       0.60   982.64   21913.835976  66833.752524   \n",
       "2   21.48       1.31       1.31   983.00   23077.501034  63787.031066   \n",
       "3   12.22       1.70       1.66   982.93   20109.861970  64048.871930   \n",
       "4    8.30       1.23       1.21   983.03   11981.773823  69151.530277   \n",
       "\n",
       "   NE7_remainder       NE7_yhat  NETOT_remainder     NETOT_yhat  \n",
       "0   64950.074562  139851.624086     -9274.801164  210577.611508  \n",
       "1  105908.998422  131060.948724     63548.937026  197941.402420  \n",
       "2  109754.169128  123579.654961     72992.933161  187412.799133  \n",
       "3   98753.991310  119454.426846     63411.904106  183549.693034  \n",
       "4   84971.983503  123196.135870     42861.776534  192395.041346  "
      ],
      "text/html": [
       "<div>\n",
       "<style scoped>\n",
       "    .dataframe tbody tr th:only-of-type {\n",
       "        vertical-align: middle;\n",
       "    }\n",
       "\n",
       "    .dataframe tbody tr th {\n",
       "        vertical-align: top;\n",
       "    }\n",
       "\n",
       "    .dataframe thead th {\n",
       "        text-align: right;\n",
       "    }\n",
       "</style>\n",
       "<table border=\"1\" class=\"dataframe\">\n",
       "  <thead>\n",
       "    <tr style=\"text-align: right;\">\n",
       "      <th></th>\n",
       "      <th>Date</th>\n",
       "      <th>Hr [%Hr]</th>\n",
       "      <th>RainDur [min]</th>\n",
       "      <th>StrGlo [W/m2]</th>\n",
       "      <th>T [°C]</th>\n",
       "      <th>WD [°]</th>\n",
       "      <th>WVs [m/s]</th>\n",
       "      <th>WVv [m/s]</th>\n",
       "      <th>p [hPa]</th>\n",
       "      <th>NE5_remainder</th>\n",
       "      <th>NE5_yhat</th>\n",
       "      <th>NE7_remainder</th>\n",
       "      <th>NE7_yhat</th>\n",
       "      <th>NETOT_remainder</th>\n",
       "      <th>NETOT_yhat</th>\n",
       "    </tr>\n",
       "  </thead>\n",
       "  <tbody>\n",
       "    <tr>\n",
       "      <th>0</th>\n",
       "      <td>2015-01-01 00:00:00</td>\n",
       "      <td>89.25</td>\n",
       "      <td>0.0</td>\n",
       "      <td>0.02</td>\n",
       "      <td>-2.09</td>\n",
       "      <td>20.41</td>\n",
       "      <td>1.40</td>\n",
       "      <td>1.40</td>\n",
       "      <td>982.80</td>\n",
       "      <td>-5003.234382</td>\n",
       "      <td>70677.985082</td>\n",
       "      <td>64950.074562</td>\n",
       "      <td>139851.624086</td>\n",
       "      <td>-9274.801164</td>\n",
       "      <td>210577.611508</td>\n",
       "    </tr>\n",
       "    <tr>\n",
       "      <th>1</th>\n",
       "      <td>2015-01-01 01:00:00</td>\n",
       "      <td>90.47</td>\n",
       "      <td>0.0</td>\n",
       "      <td>0.01</td>\n",
       "      <td>-2.48</td>\n",
       "      <td>353.85</td>\n",
       "      <td>0.61</td>\n",
       "      <td>0.60</td>\n",
       "      <td>982.64</td>\n",
       "      <td>21913.835976</td>\n",
       "      <td>66833.752524</td>\n",
       "      <td>105908.998422</td>\n",
       "      <td>131060.948724</td>\n",
       "      <td>63548.937026</td>\n",
       "      <td>197941.402420</td>\n",
       "    </tr>\n",
       "    <tr>\n",
       "      <th>2</th>\n",
       "      <td>2015-01-01 02:00:00</td>\n",
       "      <td>89.45</td>\n",
       "      <td>0.0</td>\n",
       "      <td>0.02</td>\n",
       "      <td>-2.46</td>\n",
       "      <td>21.48</td>\n",
       "      <td>1.31</td>\n",
       "      <td>1.31</td>\n",
       "      <td>983.00</td>\n",
       "      <td>23077.501034</td>\n",
       "      <td>63787.031066</td>\n",
       "      <td>109754.169128</td>\n",
       "      <td>123579.654961</td>\n",
       "      <td>72992.933161</td>\n",
       "      <td>187412.799133</td>\n",
       "    </tr>\n",
       "    <tr>\n",
       "      <th>3</th>\n",
       "      <td>2015-01-01 03:00:00</td>\n",
       "      <td>89.20</td>\n",
       "      <td>0.0</td>\n",
       "      <td>0.02</td>\n",
       "      <td>-2.63</td>\n",
       "      <td>12.22</td>\n",
       "      <td>1.70</td>\n",
       "      <td>1.66</td>\n",
       "      <td>982.93</td>\n",
       "      <td>20109.861970</td>\n",
       "      <td>64048.871930</td>\n",
       "      <td>98753.991310</td>\n",
       "      <td>119454.426846</td>\n",
       "      <td>63411.904106</td>\n",
       "      <td>183549.693034</td>\n",
       "    </tr>\n",
       "    <tr>\n",
       "      <th>4</th>\n",
       "      <td>2015-01-01 04:00:00</td>\n",
       "      <td>89.56</td>\n",
       "      <td>0.0</td>\n",
       "      <td>0.02</td>\n",
       "      <td>-2.77</td>\n",
       "      <td>8.30</td>\n",
       "      <td>1.23</td>\n",
       "      <td>1.21</td>\n",
       "      <td>983.03</td>\n",
       "      <td>11981.773823</td>\n",
       "      <td>69151.530277</td>\n",
       "      <td>84971.983503</td>\n",
       "      <td>123196.135870</td>\n",
       "      <td>42861.776534</td>\n",
       "      <td>192395.041346</td>\n",
       "    </tr>\n",
       "  </tbody>\n",
       "</table>\n",
       "</div>"
      ]
     },
     "execution_count": 65,
     "metadata": {},
     "output_type": "execute_result"
    }
   ],
   "execution_count": 65
  },
  {
   "cell_type": "code",
   "id": "410d36a1cd16366c",
   "metadata": {
    "ExecuteTime": {
     "end_time": "2024-11-11T17:21:01.532431Z",
     "start_time": "2024-11-11T17:21:01.460784Z"
    }
   },
   "source": "df['Date'] = pd.to_datetime(df['Date'])",
   "outputs": [],
   "execution_count": 67
  },
  {
   "cell_type": "code",
   "id": "9f869320a8349386",
   "metadata": {
    "ExecuteTime": {
     "end_time": "2024-11-11T17:21:05.228720Z",
     "start_time": "2024-11-11T17:21:05.210944Z"
    }
   },
   "source": [
    "df.head()"
   ],
   "outputs": [
    {
     "data": {
      "text/plain": [
       "                 Date  Hr [%Hr]  RainDur [min]  StrGlo [W/m2]  T [°C]  WD [°]  \\\n",
       "0 2015-01-01 00:00:00     89.25            0.0           0.02   -2.09   20.41   \n",
       "1 2015-01-01 01:00:00     90.47            0.0           0.01   -2.48  353.85   \n",
       "2 2015-01-01 02:00:00     89.45            0.0           0.02   -2.46   21.48   \n",
       "3 2015-01-01 03:00:00     89.20            0.0           0.02   -2.63   12.22   \n",
       "4 2015-01-01 04:00:00     89.56            0.0           0.02   -2.77    8.30   \n",
       "\n",
       "   WVs [m/s]  WVv [m/s]  p [hPa]  NE5_remainder      NE5_yhat  NE7_remainder  \\\n",
       "0       1.40       1.40   982.80   -5003.234382  70677.985082   64950.074562   \n",
       "1       0.61       0.60   982.64   21913.835976  66833.752524  105908.998422   \n",
       "2       1.31       1.31   983.00   23077.501034  63787.031066  109754.169128   \n",
       "3       1.70       1.66   982.93   20109.861970  64048.871930   98753.991310   \n",
       "4       1.23       1.21   983.03   11981.773823  69151.530277   84971.983503   \n",
       "\n",
       "        NE7_yhat  NETOT_remainder     NETOT_yhat  \n",
       "0  139851.624086     -9274.801164  210577.611508  \n",
       "1  131060.948724     63548.937026  197941.402420  \n",
       "2  123579.654961     72992.933161  187412.799133  \n",
       "3  119454.426846     63411.904106  183549.693034  \n",
       "4  123196.135870     42861.776534  192395.041346  "
      ],
      "text/html": [
       "<div>\n",
       "<style scoped>\n",
       "    .dataframe tbody tr th:only-of-type {\n",
       "        vertical-align: middle;\n",
       "    }\n",
       "\n",
       "    .dataframe tbody tr th {\n",
       "        vertical-align: top;\n",
       "    }\n",
       "\n",
       "    .dataframe thead th {\n",
       "        text-align: right;\n",
       "    }\n",
       "</style>\n",
       "<table border=\"1\" class=\"dataframe\">\n",
       "  <thead>\n",
       "    <tr style=\"text-align: right;\">\n",
       "      <th></th>\n",
       "      <th>Date</th>\n",
       "      <th>Hr [%Hr]</th>\n",
       "      <th>RainDur [min]</th>\n",
       "      <th>StrGlo [W/m2]</th>\n",
       "      <th>T [°C]</th>\n",
       "      <th>WD [°]</th>\n",
       "      <th>WVs [m/s]</th>\n",
       "      <th>WVv [m/s]</th>\n",
       "      <th>p [hPa]</th>\n",
       "      <th>NE5_remainder</th>\n",
       "      <th>NE5_yhat</th>\n",
       "      <th>NE7_remainder</th>\n",
       "      <th>NE7_yhat</th>\n",
       "      <th>NETOT_remainder</th>\n",
       "      <th>NETOT_yhat</th>\n",
       "    </tr>\n",
       "  </thead>\n",
       "  <tbody>\n",
       "    <tr>\n",
       "      <th>0</th>\n",
       "      <td>2015-01-01 00:00:00</td>\n",
       "      <td>89.25</td>\n",
       "      <td>0.0</td>\n",
       "      <td>0.02</td>\n",
       "      <td>-2.09</td>\n",
       "      <td>20.41</td>\n",
       "      <td>1.40</td>\n",
       "      <td>1.40</td>\n",
       "      <td>982.80</td>\n",
       "      <td>-5003.234382</td>\n",
       "      <td>70677.985082</td>\n",
       "      <td>64950.074562</td>\n",
       "      <td>139851.624086</td>\n",
       "      <td>-9274.801164</td>\n",
       "      <td>210577.611508</td>\n",
       "    </tr>\n",
       "    <tr>\n",
       "      <th>1</th>\n",
       "      <td>2015-01-01 01:00:00</td>\n",
       "      <td>90.47</td>\n",
       "      <td>0.0</td>\n",
       "      <td>0.01</td>\n",
       "      <td>-2.48</td>\n",
       "      <td>353.85</td>\n",
       "      <td>0.61</td>\n",
       "      <td>0.60</td>\n",
       "      <td>982.64</td>\n",
       "      <td>21913.835976</td>\n",
       "      <td>66833.752524</td>\n",
       "      <td>105908.998422</td>\n",
       "      <td>131060.948724</td>\n",
       "      <td>63548.937026</td>\n",
       "      <td>197941.402420</td>\n",
       "    </tr>\n",
       "    <tr>\n",
       "      <th>2</th>\n",
       "      <td>2015-01-01 02:00:00</td>\n",
       "      <td>89.45</td>\n",
       "      <td>0.0</td>\n",
       "      <td>0.02</td>\n",
       "      <td>-2.46</td>\n",
       "      <td>21.48</td>\n",
       "      <td>1.31</td>\n",
       "      <td>1.31</td>\n",
       "      <td>983.00</td>\n",
       "      <td>23077.501034</td>\n",
       "      <td>63787.031066</td>\n",
       "      <td>109754.169128</td>\n",
       "      <td>123579.654961</td>\n",
       "      <td>72992.933161</td>\n",
       "      <td>187412.799133</td>\n",
       "    </tr>\n",
       "    <tr>\n",
       "      <th>3</th>\n",
       "      <td>2015-01-01 03:00:00</td>\n",
       "      <td>89.20</td>\n",
       "      <td>0.0</td>\n",
       "      <td>0.02</td>\n",
       "      <td>-2.63</td>\n",
       "      <td>12.22</td>\n",
       "      <td>1.70</td>\n",
       "      <td>1.66</td>\n",
       "      <td>982.93</td>\n",
       "      <td>20109.861970</td>\n",
       "      <td>64048.871930</td>\n",
       "      <td>98753.991310</td>\n",
       "      <td>119454.426846</td>\n",
       "      <td>63411.904106</td>\n",
       "      <td>183549.693034</td>\n",
       "    </tr>\n",
       "    <tr>\n",
       "      <th>4</th>\n",
       "      <td>2015-01-01 04:00:00</td>\n",
       "      <td>89.56</td>\n",
       "      <td>0.0</td>\n",
       "      <td>0.02</td>\n",
       "      <td>-2.77</td>\n",
       "      <td>8.30</td>\n",
       "      <td>1.23</td>\n",
       "      <td>1.21</td>\n",
       "      <td>983.03</td>\n",
       "      <td>11981.773823</td>\n",
       "      <td>69151.530277</td>\n",
       "      <td>84971.983503</td>\n",
       "      <td>123196.135870</td>\n",
       "      <td>42861.776534</td>\n",
       "      <td>192395.041346</td>\n",
       "    </tr>\n",
       "  </tbody>\n",
       "</table>\n",
       "</div>"
      ]
     },
     "execution_count": 68,
     "metadata": {},
     "output_type": "execute_result"
    }
   ],
   "execution_count": 68
  },
  {
   "cell_type": "markdown",
   "id": "c33bfc1c6c428c51",
   "metadata": {},
   "source": [
    "Check target variable"
   ]
  },
  {
   "cell_type": "code",
   "id": "6e612bc898fa4a3f",
   "metadata": {
    "ExecuteTime": {
     "end_time": "2024-11-11T17:21:13.355115Z",
     "start_time": "2024-11-11T17:21:13.349325Z"
    }
   },
   "source": [
    "print(df['NETOT_remainder'].head())"
   ],
   "outputs": [
    {
     "name": "stdout",
     "output_type": "stream",
     "text": [
      "0    -9274.801164\n",
      "1    63548.937026\n",
      "2    72992.933161\n",
      "3    63411.904106\n",
      "4    42861.776534\n",
      "Name: NETOT_remainder, dtype: float64\n"
     ]
    }
   ],
   "execution_count": 69
  },
  {
   "cell_type": "code",
   "id": "2546757789ff6cc1",
   "metadata": {
    "ExecuteTime": {
     "end_time": "2024-11-11T17:21:14.129972Z",
     "start_time": "2024-11-11T17:21:14.110790Z"
    }
   },
   "source": [
    "# Check for missing values\n",
    "print(df.isnull().sum())"
   ],
   "outputs": [
    {
     "name": "stdout",
     "output_type": "stream",
     "text": [
      "Date                  0\n",
      "Hr [%Hr]            432\n",
      "RainDur [min]       150\n",
      "StrGlo [W/m2]       150\n",
      "T [°C]              408\n",
      "WD [°]              139\n",
      "WVs [m/s]          6384\n",
      "WVv [m/s]           139\n",
      "p [hPa]             250\n",
      "NE5_remainder         1\n",
      "NE5_yhat              0\n",
      "NE7_remainder        25\n",
      "NE7_yhat              0\n",
      "NETOT_remainder      25\n",
      "NETOT_yhat            0\n",
      "dtype: int64\n"
     ]
    }
   ],
   "execution_count": 70
  },
  {
   "cell_type": "code",
   "id": "81cd3bf00d82537a",
   "metadata": {
    "ExecuteTime": {
     "end_time": "2024-11-11T17:21:14.683012Z",
     "start_time": "2024-11-11T17:21:14.652590Z"
    }
   },
   "source": [
    "# Remove rows with any None/NaN values\n",
    "df = df.dropna()"
   ],
   "outputs": [],
   "execution_count": 71
  },
  {
   "cell_type": "code",
   "id": "40ec9399704f9127",
   "metadata": {
    "ExecuteTime": {
     "end_time": "2024-11-11T17:21:15.142733Z",
     "start_time": "2024-11-11T17:21:15.124360Z"
    }
   },
   "source": [
    "# Check for missing values\n",
    "print(df.isnull().sum())"
   ],
   "outputs": [
    {
     "name": "stdout",
     "output_type": "stream",
     "text": [
      "Date               0\n",
      "Hr [%Hr]           0\n",
      "RainDur [min]      0\n",
      "StrGlo [W/m2]      0\n",
      "T [°C]             0\n",
      "WD [°]             0\n",
      "WVs [m/s]          0\n",
      "WVv [m/s]          0\n",
      "p [hPa]            0\n",
      "NE5_remainder      0\n",
      "NE5_yhat           0\n",
      "NE7_remainder      0\n",
      "NE7_yhat           0\n",
      "NETOT_remainder    0\n",
      "NETOT_yhat         0\n",
      "dtype: int64\n"
     ]
    }
   ],
   "execution_count": 72
  },
  {
   "cell_type": "markdown",
   "id": "56033452d5184972",
   "metadata": {},
   "source": [
    "### Plot prepared data"
   ]
  },
  {
   "cell_type": "code",
   "id": "35fdc7364cd33fdb",
   "metadata": {
    "ExecuteTime": {
     "end_time": "2024-11-11T17:21:16.652098Z",
     "start_time": "2024-11-11T17:21:16.648289Z"
    }
   },
   "source": [
    "# def data_plot(df, sample_interval=100):\n",
    "#     # Sample the DataFrame\n",
    "#     df_plot = df.iloc[::sample_interval, :]  # Adjust the interval as needed\n",
    "# \n",
    "#     ncols = 2\n",
    "#     nrows = int(np.ceil(df_plot.shape[1] / ncols))  # Ensure enough rows\n",
    "# \n",
    "#     fig, ax = plt.subplots(nrows=nrows, ncols=ncols, sharex=True, figsize=(20, 20), dpi=80)\n",
    "#     ax = ax.flatten()  # Flatten the array for easy indexing\n",
    "# \n",
    "#     for i, col in enumerate(df_plot.columns):\n",
    "#         ax[i].plot(df_plot.index, df_plot[col], linewidth=0.5)\n",
    "#         ax[i].tick_params(axis=\"x\", rotation=30, labelsize=8)\n",
    "#         ax[i].xaxis.set_major_locator(mdates.AutoDateLocator())\n",
    "#         ax[i].set_title(col)\n",
    "#         # Remove top and right spines for aesthetics and performance\n",
    "#         ax[i].spines['top'].set_visible(False)\n",
    "#         ax[i].spines['right'].set_visible(False)\n",
    "# \n",
    "#     # Hide any unused subplots\n",
    "#     for j in range(i + 1, len(ax)):\n",
    "#         fig.delaxes(ax[j])\n",
    "# \n",
    "#     fig.tight_layout()\n",
    "#     plt.show()\n",
    "#     \n",
    "# # Plot the data\n",
    "# data_plot(df)\n"
   ],
   "outputs": [],
   "execution_count": 73
  },
  {
   "cell_type": "code",
   "id": "20a67342d544370d",
   "metadata": {
    "ExecuteTime": {
     "end_time": "2024-11-11T17:21:17.322033Z",
     "start_time": "2024-11-11T17:21:17.306120Z"
    }
   },
   "source": [
    "# set date as index\n",
    "df.set_index('Date', inplace=True)\n",
    "df.head()"
   ],
   "outputs": [
    {
     "data": {
      "text/plain": [
       "                     Hr [%Hr]  RainDur [min]  StrGlo [W/m2]  T [°C]  WD [°]  \\\n",
       "Date                                                                          \n",
       "2015-01-01 00:00:00     89.25            0.0           0.02   -2.09   20.41   \n",
       "2015-01-01 01:00:00     90.47            0.0           0.01   -2.48  353.85   \n",
       "2015-01-01 02:00:00     89.45            0.0           0.02   -2.46   21.48   \n",
       "2015-01-01 03:00:00     89.20            0.0           0.02   -2.63   12.22   \n",
       "2015-01-01 04:00:00     89.56            0.0           0.02   -2.77    8.30   \n",
       "\n",
       "                     WVs [m/s]  WVv [m/s]  p [hPa]  NE5_remainder  \\\n",
       "Date                                                                \n",
       "2015-01-01 00:00:00       1.40       1.40   982.80   -5003.234382   \n",
       "2015-01-01 01:00:00       0.61       0.60   982.64   21913.835976   \n",
       "2015-01-01 02:00:00       1.31       1.31   983.00   23077.501034   \n",
       "2015-01-01 03:00:00       1.70       1.66   982.93   20109.861970   \n",
       "2015-01-01 04:00:00       1.23       1.21   983.03   11981.773823   \n",
       "\n",
       "                         NE5_yhat  NE7_remainder       NE7_yhat  \\\n",
       "Date                                                              \n",
       "2015-01-01 00:00:00  70677.985082   64950.074562  139851.624086   \n",
       "2015-01-01 01:00:00  66833.752524  105908.998422  131060.948724   \n",
       "2015-01-01 02:00:00  63787.031066  109754.169128  123579.654961   \n",
       "2015-01-01 03:00:00  64048.871930   98753.991310  119454.426846   \n",
       "2015-01-01 04:00:00  69151.530277   84971.983503  123196.135870   \n",
       "\n",
       "                     NETOT_remainder     NETOT_yhat  \n",
       "Date                                                 \n",
       "2015-01-01 00:00:00     -9274.801164  210577.611508  \n",
       "2015-01-01 01:00:00     63548.937026  197941.402420  \n",
       "2015-01-01 02:00:00     72992.933161  187412.799133  \n",
       "2015-01-01 03:00:00     63411.904106  183549.693034  \n",
       "2015-01-01 04:00:00     42861.776534  192395.041346  "
      ],
      "text/html": [
       "<div>\n",
       "<style scoped>\n",
       "    .dataframe tbody tr th:only-of-type {\n",
       "        vertical-align: middle;\n",
       "    }\n",
       "\n",
       "    .dataframe tbody tr th {\n",
       "        vertical-align: top;\n",
       "    }\n",
       "\n",
       "    .dataframe thead th {\n",
       "        text-align: right;\n",
       "    }\n",
       "</style>\n",
       "<table border=\"1\" class=\"dataframe\">\n",
       "  <thead>\n",
       "    <tr style=\"text-align: right;\">\n",
       "      <th></th>\n",
       "      <th>Hr [%Hr]</th>\n",
       "      <th>RainDur [min]</th>\n",
       "      <th>StrGlo [W/m2]</th>\n",
       "      <th>T [°C]</th>\n",
       "      <th>WD [°]</th>\n",
       "      <th>WVs [m/s]</th>\n",
       "      <th>WVv [m/s]</th>\n",
       "      <th>p [hPa]</th>\n",
       "      <th>NE5_remainder</th>\n",
       "      <th>NE5_yhat</th>\n",
       "      <th>NE7_remainder</th>\n",
       "      <th>NE7_yhat</th>\n",
       "      <th>NETOT_remainder</th>\n",
       "      <th>NETOT_yhat</th>\n",
       "    </tr>\n",
       "    <tr>\n",
       "      <th>Date</th>\n",
       "      <th></th>\n",
       "      <th></th>\n",
       "      <th></th>\n",
       "      <th></th>\n",
       "      <th></th>\n",
       "      <th></th>\n",
       "      <th></th>\n",
       "      <th></th>\n",
       "      <th></th>\n",
       "      <th></th>\n",
       "      <th></th>\n",
       "      <th></th>\n",
       "      <th></th>\n",
       "      <th></th>\n",
       "    </tr>\n",
       "  </thead>\n",
       "  <tbody>\n",
       "    <tr>\n",
       "      <th>2015-01-01 00:00:00</th>\n",
       "      <td>89.25</td>\n",
       "      <td>0.0</td>\n",
       "      <td>0.02</td>\n",
       "      <td>-2.09</td>\n",
       "      <td>20.41</td>\n",
       "      <td>1.40</td>\n",
       "      <td>1.40</td>\n",
       "      <td>982.80</td>\n",
       "      <td>-5003.234382</td>\n",
       "      <td>70677.985082</td>\n",
       "      <td>64950.074562</td>\n",
       "      <td>139851.624086</td>\n",
       "      <td>-9274.801164</td>\n",
       "      <td>210577.611508</td>\n",
       "    </tr>\n",
       "    <tr>\n",
       "      <th>2015-01-01 01:00:00</th>\n",
       "      <td>90.47</td>\n",
       "      <td>0.0</td>\n",
       "      <td>0.01</td>\n",
       "      <td>-2.48</td>\n",
       "      <td>353.85</td>\n",
       "      <td>0.61</td>\n",
       "      <td>0.60</td>\n",
       "      <td>982.64</td>\n",
       "      <td>21913.835976</td>\n",
       "      <td>66833.752524</td>\n",
       "      <td>105908.998422</td>\n",
       "      <td>131060.948724</td>\n",
       "      <td>63548.937026</td>\n",
       "      <td>197941.402420</td>\n",
       "    </tr>\n",
       "    <tr>\n",
       "      <th>2015-01-01 02:00:00</th>\n",
       "      <td>89.45</td>\n",
       "      <td>0.0</td>\n",
       "      <td>0.02</td>\n",
       "      <td>-2.46</td>\n",
       "      <td>21.48</td>\n",
       "      <td>1.31</td>\n",
       "      <td>1.31</td>\n",
       "      <td>983.00</td>\n",
       "      <td>23077.501034</td>\n",
       "      <td>63787.031066</td>\n",
       "      <td>109754.169128</td>\n",
       "      <td>123579.654961</td>\n",
       "      <td>72992.933161</td>\n",
       "      <td>187412.799133</td>\n",
       "    </tr>\n",
       "    <tr>\n",
       "      <th>2015-01-01 03:00:00</th>\n",
       "      <td>89.20</td>\n",
       "      <td>0.0</td>\n",
       "      <td>0.02</td>\n",
       "      <td>-2.63</td>\n",
       "      <td>12.22</td>\n",
       "      <td>1.70</td>\n",
       "      <td>1.66</td>\n",
       "      <td>982.93</td>\n",
       "      <td>20109.861970</td>\n",
       "      <td>64048.871930</td>\n",
       "      <td>98753.991310</td>\n",
       "      <td>119454.426846</td>\n",
       "      <td>63411.904106</td>\n",
       "      <td>183549.693034</td>\n",
       "    </tr>\n",
       "    <tr>\n",
       "      <th>2015-01-01 04:00:00</th>\n",
       "      <td>89.56</td>\n",
       "      <td>0.0</td>\n",
       "      <td>0.02</td>\n",
       "      <td>-2.77</td>\n",
       "      <td>8.30</td>\n",
       "      <td>1.23</td>\n",
       "      <td>1.21</td>\n",
       "      <td>983.03</td>\n",
       "      <td>11981.773823</td>\n",
       "      <td>69151.530277</td>\n",
       "      <td>84971.983503</td>\n",
       "      <td>123196.135870</td>\n",
       "      <td>42861.776534</td>\n",
       "      <td>192395.041346</td>\n",
       "    </tr>\n",
       "  </tbody>\n",
       "</table>\n",
       "</div>"
      ]
     },
     "execution_count": 74,
     "metadata": {},
     "output_type": "execute_result"
    }
   ],
   "execution_count": 74
  },
  {
   "cell_type": "code",
   "id": "45db042b8171a6ef",
   "metadata": {
    "ExecuteTime": {
     "end_time": "2024-11-11T17:21:19.958173Z",
     "start_time": "2024-11-11T17:21:19.953237Z"
    }
   },
   "source": [
    "target_var = ['NETOT_remainder']\n",
    "feature_var = ['Hr [%Hr]', 'RainDur [min]', 'StrGlo [W/m2]', 'T [°C]', 'WD [°]', 'WVs [m/s]', 'WVv [m/s]', 'p [hPa]']"
   ],
   "outputs": [],
   "execution_count": 75
  },
  {
   "cell_type": "code",
   "id": "41bb5362ec1f9b7d",
   "metadata": {
    "ExecuteTime": {
     "end_time": "2024-11-11T17:21:20.414600Z",
     "start_time": "2024-11-11T17:21:20.406582Z"
    }
   },
   "source": [
    "feature_df = df[feature_var]\n",
    "target_df = df[target_var]"
   ],
   "outputs": [],
   "execution_count": 76
  },
  {
   "cell_type": "code",
   "execution_count": 16,
   "id": "bdcef8174cd58774",
   "metadata": {
    "ExecuteTime": {
     "end_time": "2024-11-08T12:49:19.377261Z",
     "start_time": "2024-11-08T12:49:19.372338Z"
    }
   },
   "outputs": [],
   "source": [
    "# Choose scalers\n",
    "input_scaler = StandardScaler()\n",
    "target_scaler = StandardScaler()"
   ]
  },
  {
   "cell_type": "code",
   "execution_count": 17,
   "id": "4f9f13c9c8272768",
   "metadata": {
    "ExecuteTime": {
     "end_time": "2024-11-08T12:49:23.827735Z",
     "start_time": "2024-11-08T12:49:23.810868Z"
    }
   },
   "outputs": [
    {
     "data": {
      "text/html": [
       "<style>#sk-container-id-1 {\n",
       "  /* Definition of color scheme common for light and dark mode */\n",
       "  --sklearn-color-text: black;\n",
       "  --sklearn-color-line: gray;\n",
       "  /* Definition of color scheme for unfitted estimators */\n",
       "  --sklearn-color-unfitted-level-0: #fff5e6;\n",
       "  --sklearn-color-unfitted-level-1: #f6e4d2;\n",
       "  --sklearn-color-unfitted-level-2: #ffe0b3;\n",
       "  --sklearn-color-unfitted-level-3: chocolate;\n",
       "  /* Definition of color scheme for fitted estimators */\n",
       "  --sklearn-color-fitted-level-0: #f0f8ff;\n",
       "  --sklearn-color-fitted-level-1: #d4ebff;\n",
       "  --sklearn-color-fitted-level-2: #b3dbfd;\n",
       "  --sklearn-color-fitted-level-3: cornflowerblue;\n",
       "\n",
       "  /* Specific color for light theme */\n",
       "  --sklearn-color-text-on-default-background: var(--sg-text-color, var(--theme-code-foreground, var(--jp-content-font-color1, black)));\n",
       "  --sklearn-color-background: var(--sg-background-color, var(--theme-background, var(--jp-layout-color0, white)));\n",
       "  --sklearn-color-border-box: var(--sg-text-color, var(--theme-code-foreground, var(--jp-content-font-color1, black)));\n",
       "  --sklearn-color-icon: #696969;\n",
       "\n",
       "  @media (prefers-color-scheme: dark) {\n",
       "    /* Redefinition of color scheme for dark theme */\n",
       "    --sklearn-color-text-on-default-background: var(--sg-text-color, var(--theme-code-foreground, var(--jp-content-font-color1, white)));\n",
       "    --sklearn-color-background: var(--sg-background-color, var(--theme-background, var(--jp-layout-color0, #111)));\n",
       "    --sklearn-color-border-box: var(--sg-text-color, var(--theme-code-foreground, var(--jp-content-font-color1, white)));\n",
       "    --sklearn-color-icon: #878787;\n",
       "  }\n",
       "}\n",
       "\n",
       "#sk-container-id-1 {\n",
       "  color: var(--sklearn-color-text);\n",
       "}\n",
       "\n",
       "#sk-container-id-1 pre {\n",
       "  padding: 0;\n",
       "}\n",
       "\n",
       "#sk-container-id-1 input.sk-hidden--visually {\n",
       "  border: 0;\n",
       "  clip: rect(1px 1px 1px 1px);\n",
       "  clip: rect(1px, 1px, 1px, 1px);\n",
       "  height: 1px;\n",
       "  margin: -1px;\n",
       "  overflow: hidden;\n",
       "  padding: 0;\n",
       "  position: absolute;\n",
       "  width: 1px;\n",
       "}\n",
       "\n",
       "#sk-container-id-1 div.sk-dashed-wrapped {\n",
       "  border: 1px dashed var(--sklearn-color-line);\n",
       "  margin: 0 0.4em 0.5em 0.4em;\n",
       "  box-sizing: border-box;\n",
       "  padding-bottom: 0.4em;\n",
       "  background-color: var(--sklearn-color-background);\n",
       "}\n",
       "\n",
       "#sk-container-id-1 div.sk-container {\n",
       "  /* jupyter's `normalize.less` sets `[hidden] { display: none; }`\n",
       "     but bootstrap.min.css set `[hidden] { display: none !important; }`\n",
       "     so we also need the `!important` here to be able to override the\n",
       "     default hidden behavior on the sphinx rendered scikit-learn.org.\n",
       "     See: https://github.com/scikit-learn/scikit-learn/issues/21755 */\n",
       "  display: inline-block !important;\n",
       "  position: relative;\n",
       "}\n",
       "\n",
       "#sk-container-id-1 div.sk-text-repr-fallback {\n",
       "  display: none;\n",
       "}\n",
       "\n",
       "div.sk-parallel-item,\n",
       "div.sk-serial,\n",
       "div.sk-item {\n",
       "  /* draw centered vertical line to link estimators */\n",
       "  background-image: linear-gradient(var(--sklearn-color-text-on-default-background), var(--sklearn-color-text-on-default-background));\n",
       "  background-size: 2px 100%;\n",
       "  background-repeat: no-repeat;\n",
       "  background-position: center center;\n",
       "}\n",
       "\n",
       "/* Parallel-specific style estimator block */\n",
       "\n",
       "#sk-container-id-1 div.sk-parallel-item::after {\n",
       "  content: \"\";\n",
       "  width: 100%;\n",
       "  border-bottom: 2px solid var(--sklearn-color-text-on-default-background);\n",
       "  flex-grow: 1;\n",
       "}\n",
       "\n",
       "#sk-container-id-1 div.sk-parallel {\n",
       "  display: flex;\n",
       "  align-items: stretch;\n",
       "  justify-content: center;\n",
       "  background-color: var(--sklearn-color-background);\n",
       "  position: relative;\n",
       "}\n",
       "\n",
       "#sk-container-id-1 div.sk-parallel-item {\n",
       "  display: flex;\n",
       "  flex-direction: column;\n",
       "}\n",
       "\n",
       "#sk-container-id-1 div.sk-parallel-item:first-child::after {\n",
       "  align-self: flex-end;\n",
       "  width: 50%;\n",
       "}\n",
       "\n",
       "#sk-container-id-1 div.sk-parallel-item:last-child::after {\n",
       "  align-self: flex-start;\n",
       "  width: 50%;\n",
       "}\n",
       "\n",
       "#sk-container-id-1 div.sk-parallel-item:only-child::after {\n",
       "  width: 0;\n",
       "}\n",
       "\n",
       "/* Serial-specific style estimator block */\n",
       "\n",
       "#sk-container-id-1 div.sk-serial {\n",
       "  display: flex;\n",
       "  flex-direction: column;\n",
       "  align-items: center;\n",
       "  background-color: var(--sklearn-color-background);\n",
       "  padding-right: 1em;\n",
       "  padding-left: 1em;\n",
       "}\n",
       "\n",
       "\n",
       "/* Toggleable style: style used for estimator/Pipeline/ColumnTransformer box that is\n",
       "clickable and can be expanded/collapsed.\n",
       "- Pipeline and ColumnTransformer use this feature and define the default style\n",
       "- Estimators will overwrite some part of the style using the `sk-estimator` class\n",
       "*/\n",
       "\n",
       "/* Pipeline and ColumnTransformer style (default) */\n",
       "\n",
       "#sk-container-id-1 div.sk-toggleable {\n",
       "  /* Default theme specific background. It is overwritten whether we have a\n",
       "  specific estimator or a Pipeline/ColumnTransformer */\n",
       "  background-color: var(--sklearn-color-background);\n",
       "}\n",
       "\n",
       "/* Toggleable label */\n",
       "#sk-container-id-1 label.sk-toggleable__label {\n",
       "  cursor: pointer;\n",
       "  display: block;\n",
       "  width: 100%;\n",
       "  margin-bottom: 0;\n",
       "  padding: 0.5em;\n",
       "  box-sizing: border-box;\n",
       "  text-align: center;\n",
       "}\n",
       "\n",
       "#sk-container-id-1 label.sk-toggleable__label-arrow:before {\n",
       "  /* Arrow on the left of the label */\n",
       "  content: \"▸\";\n",
       "  float: left;\n",
       "  margin-right: 0.25em;\n",
       "  color: var(--sklearn-color-icon);\n",
       "}\n",
       "\n",
       "#sk-container-id-1 label.sk-toggleable__label-arrow:hover:before {\n",
       "  color: var(--sklearn-color-text);\n",
       "}\n",
       "\n",
       "/* Toggleable content - dropdown */\n",
       "\n",
       "#sk-container-id-1 div.sk-toggleable__content {\n",
       "  max-height: 0;\n",
       "  max-width: 0;\n",
       "  overflow: hidden;\n",
       "  text-align: left;\n",
       "  /* unfitted */\n",
       "  background-color: var(--sklearn-color-unfitted-level-0);\n",
       "}\n",
       "\n",
       "#sk-container-id-1 div.sk-toggleable__content.fitted {\n",
       "  /* fitted */\n",
       "  background-color: var(--sklearn-color-fitted-level-0);\n",
       "}\n",
       "\n",
       "#sk-container-id-1 div.sk-toggleable__content pre {\n",
       "  margin: 0.2em;\n",
       "  border-radius: 0.25em;\n",
       "  color: var(--sklearn-color-text);\n",
       "  /* unfitted */\n",
       "  background-color: var(--sklearn-color-unfitted-level-0);\n",
       "}\n",
       "\n",
       "#sk-container-id-1 div.sk-toggleable__content.fitted pre {\n",
       "  /* unfitted */\n",
       "  background-color: var(--sklearn-color-fitted-level-0);\n",
       "}\n",
       "\n",
       "#sk-container-id-1 input.sk-toggleable__control:checked~div.sk-toggleable__content {\n",
       "  /* Expand drop-down */\n",
       "  max-height: 200px;\n",
       "  max-width: 100%;\n",
       "  overflow: auto;\n",
       "}\n",
       "\n",
       "#sk-container-id-1 input.sk-toggleable__control:checked~label.sk-toggleable__label-arrow:before {\n",
       "  content: \"▾\";\n",
       "}\n",
       "\n",
       "/* Pipeline/ColumnTransformer-specific style */\n",
       "\n",
       "#sk-container-id-1 div.sk-label input.sk-toggleable__control:checked~label.sk-toggleable__label {\n",
       "  color: var(--sklearn-color-text);\n",
       "  background-color: var(--sklearn-color-unfitted-level-2);\n",
       "}\n",
       "\n",
       "#sk-container-id-1 div.sk-label.fitted input.sk-toggleable__control:checked~label.sk-toggleable__label {\n",
       "  background-color: var(--sklearn-color-fitted-level-2);\n",
       "}\n",
       "\n",
       "/* Estimator-specific style */\n",
       "\n",
       "/* Colorize estimator box */\n",
       "#sk-container-id-1 div.sk-estimator input.sk-toggleable__control:checked~label.sk-toggleable__label {\n",
       "  /* unfitted */\n",
       "  background-color: var(--sklearn-color-unfitted-level-2);\n",
       "}\n",
       "\n",
       "#sk-container-id-1 div.sk-estimator.fitted input.sk-toggleable__control:checked~label.sk-toggleable__label {\n",
       "  /* fitted */\n",
       "  background-color: var(--sklearn-color-fitted-level-2);\n",
       "}\n",
       "\n",
       "#sk-container-id-1 div.sk-label label.sk-toggleable__label,\n",
       "#sk-container-id-1 div.sk-label label {\n",
       "  /* The background is the default theme color */\n",
       "  color: var(--sklearn-color-text-on-default-background);\n",
       "}\n",
       "\n",
       "/* On hover, darken the color of the background */\n",
       "#sk-container-id-1 div.sk-label:hover label.sk-toggleable__label {\n",
       "  color: var(--sklearn-color-text);\n",
       "  background-color: var(--sklearn-color-unfitted-level-2);\n",
       "}\n",
       "\n",
       "/* Label box, darken color on hover, fitted */\n",
       "#sk-container-id-1 div.sk-label.fitted:hover label.sk-toggleable__label.fitted {\n",
       "  color: var(--sklearn-color-text);\n",
       "  background-color: var(--sklearn-color-fitted-level-2);\n",
       "}\n",
       "\n",
       "/* Estimator label */\n",
       "\n",
       "#sk-container-id-1 div.sk-label label {\n",
       "  font-family: monospace;\n",
       "  font-weight: bold;\n",
       "  display: inline-block;\n",
       "  line-height: 1.2em;\n",
       "}\n",
       "\n",
       "#sk-container-id-1 div.sk-label-container {\n",
       "  text-align: center;\n",
       "}\n",
       "\n",
       "/* Estimator-specific */\n",
       "#sk-container-id-1 div.sk-estimator {\n",
       "  font-family: monospace;\n",
       "  border: 1px dotted var(--sklearn-color-border-box);\n",
       "  border-radius: 0.25em;\n",
       "  box-sizing: border-box;\n",
       "  margin-bottom: 0.5em;\n",
       "  /* unfitted */\n",
       "  background-color: var(--sklearn-color-unfitted-level-0);\n",
       "}\n",
       "\n",
       "#sk-container-id-1 div.sk-estimator.fitted {\n",
       "  /* fitted */\n",
       "  background-color: var(--sklearn-color-fitted-level-0);\n",
       "}\n",
       "\n",
       "/* on hover */\n",
       "#sk-container-id-1 div.sk-estimator:hover {\n",
       "  /* unfitted */\n",
       "  background-color: var(--sklearn-color-unfitted-level-2);\n",
       "}\n",
       "\n",
       "#sk-container-id-1 div.sk-estimator.fitted:hover {\n",
       "  /* fitted */\n",
       "  background-color: var(--sklearn-color-fitted-level-2);\n",
       "}\n",
       "\n",
       "/* Specification for estimator info (e.g. \"i\" and \"?\") */\n",
       "\n",
       "/* Common style for \"i\" and \"?\" */\n",
       "\n",
       ".sk-estimator-doc-link,\n",
       "a:link.sk-estimator-doc-link,\n",
       "a:visited.sk-estimator-doc-link {\n",
       "  float: right;\n",
       "  font-size: smaller;\n",
       "  line-height: 1em;\n",
       "  font-family: monospace;\n",
       "  background-color: var(--sklearn-color-background);\n",
       "  border-radius: 1em;\n",
       "  height: 1em;\n",
       "  width: 1em;\n",
       "  text-decoration: none !important;\n",
       "  margin-left: 1ex;\n",
       "  /* unfitted */\n",
       "  border: var(--sklearn-color-unfitted-level-1) 1pt solid;\n",
       "  color: var(--sklearn-color-unfitted-level-1);\n",
       "}\n",
       "\n",
       ".sk-estimator-doc-link.fitted,\n",
       "a:link.sk-estimator-doc-link.fitted,\n",
       "a:visited.sk-estimator-doc-link.fitted {\n",
       "  /* fitted */\n",
       "  border: var(--sklearn-color-fitted-level-1) 1pt solid;\n",
       "  color: var(--sklearn-color-fitted-level-1);\n",
       "}\n",
       "\n",
       "/* On hover */\n",
       "div.sk-estimator:hover .sk-estimator-doc-link:hover,\n",
       ".sk-estimator-doc-link:hover,\n",
       "div.sk-label-container:hover .sk-estimator-doc-link:hover,\n",
       ".sk-estimator-doc-link:hover {\n",
       "  /* unfitted */\n",
       "  background-color: var(--sklearn-color-unfitted-level-3);\n",
       "  color: var(--sklearn-color-background);\n",
       "  text-decoration: none;\n",
       "}\n",
       "\n",
       "div.sk-estimator.fitted:hover .sk-estimator-doc-link.fitted:hover,\n",
       ".sk-estimator-doc-link.fitted:hover,\n",
       "div.sk-label-container:hover .sk-estimator-doc-link.fitted:hover,\n",
       ".sk-estimator-doc-link.fitted:hover {\n",
       "  /* fitted */\n",
       "  background-color: var(--sklearn-color-fitted-level-3);\n",
       "  color: var(--sklearn-color-background);\n",
       "  text-decoration: none;\n",
       "}\n",
       "\n",
       "/* Span, style for the box shown on hovering the info icon */\n",
       ".sk-estimator-doc-link span {\n",
       "  display: none;\n",
       "  z-index: 9999;\n",
       "  position: relative;\n",
       "  font-weight: normal;\n",
       "  right: .2ex;\n",
       "  padding: .5ex;\n",
       "  margin: .5ex;\n",
       "  width: min-content;\n",
       "  min-width: 20ex;\n",
       "  max-width: 50ex;\n",
       "  color: var(--sklearn-color-text);\n",
       "  box-shadow: 2pt 2pt 4pt #999;\n",
       "  /* unfitted */\n",
       "  background: var(--sklearn-color-unfitted-level-0);\n",
       "  border: .5pt solid var(--sklearn-color-unfitted-level-3);\n",
       "}\n",
       "\n",
       ".sk-estimator-doc-link.fitted span {\n",
       "  /* fitted */\n",
       "  background: var(--sklearn-color-fitted-level-0);\n",
       "  border: var(--sklearn-color-fitted-level-3);\n",
       "}\n",
       "\n",
       ".sk-estimator-doc-link:hover span {\n",
       "  display: block;\n",
       "}\n",
       "\n",
       "/* \"?\"-specific style due to the `<a>` HTML tag */\n",
       "\n",
       "#sk-container-id-1 a.estimator_doc_link {\n",
       "  float: right;\n",
       "  font-size: 1rem;\n",
       "  line-height: 1em;\n",
       "  font-family: monospace;\n",
       "  background-color: var(--sklearn-color-background);\n",
       "  border-radius: 1rem;\n",
       "  height: 1rem;\n",
       "  width: 1rem;\n",
       "  text-decoration: none;\n",
       "  /* unfitted */\n",
       "  color: var(--sklearn-color-unfitted-level-1);\n",
       "  border: var(--sklearn-color-unfitted-level-1) 1pt solid;\n",
       "}\n",
       "\n",
       "#sk-container-id-1 a.estimator_doc_link.fitted {\n",
       "  /* fitted */\n",
       "  border: var(--sklearn-color-fitted-level-1) 1pt solid;\n",
       "  color: var(--sklearn-color-fitted-level-1);\n",
       "}\n",
       "\n",
       "/* On hover */\n",
       "#sk-container-id-1 a.estimator_doc_link:hover {\n",
       "  /* unfitted */\n",
       "  background-color: var(--sklearn-color-unfitted-level-3);\n",
       "  color: var(--sklearn-color-background);\n",
       "  text-decoration: none;\n",
       "}\n",
       "\n",
       "#sk-container-id-1 a.estimator_doc_link.fitted:hover {\n",
       "  /* fitted */\n",
       "  background-color: var(--sklearn-color-fitted-level-3);\n",
       "}\n",
       "</style><div id=\"sk-container-id-1\" class=\"sk-top-container\"><div class=\"sk-text-repr-fallback\"><pre>StandardScaler()</pre><b>In a Jupyter environment, please rerun this cell to show the HTML representation or trust the notebook. <br />On GitHub, the HTML representation is unable to render, please try loading this page with nbviewer.org.</b></div><div class=\"sk-container\" hidden><div class=\"sk-item\"><div class=\"sk-estimator fitted sk-toggleable\"><input class=\"sk-toggleable__control sk-hidden--visually\" id=\"sk-estimator-id-1\" type=\"checkbox\" checked><label for=\"sk-estimator-id-1\" class=\"sk-toggleable__label fitted sk-toggleable__label-arrow fitted\">&nbsp;&nbsp;StandardScaler<a class=\"sk-estimator-doc-link fitted\" rel=\"noreferrer\" target=\"_blank\" href=\"https://scikit-learn.org/1.5/modules/generated/sklearn.preprocessing.StandardScaler.html\">?<span>Documentation for StandardScaler</span></a><span class=\"sk-estimator-doc-link fitted\">i<span>Fitted</span></span></label><div class=\"sk-toggleable__content fitted\"><pre>StandardScaler()</pre></div> </div></div></div></div>"
      ],
      "text/plain": [
       "StandardScaler()"
      ]
     },
     "execution_count": 17,
     "metadata": {},
     "output_type": "execute_result"
    }
   ],
   "source": [
    "# Fit scalers on training data\n",
    "input_scaler.fit(feature_df)\n",
    "target_scaler.fit(target_df)"
   ]
  },
  {
   "cell_type": "code",
   "execution_count": 18,
   "id": "d2272c6fc9cca753",
   "metadata": {
    "ExecuteTime": {
     "end_time": "2024-11-08T12:51:35.440567Z",
     "start_time": "2024-11-08T12:51:35.430055Z"
    }
   },
   "outputs": [],
   "source": [
    "feature_df_transformed = input_scaler.transform(feature_df)\n",
    "target_df_transformed = target_scaler.transform(target_df)\n"
   ]
  },
  {
   "cell_type": "code",
   "execution_count": 19,
   "id": "7c4b762eda0aac89",
   "metadata": {
    "ExecuteTime": {
     "end_time": "2024-11-08T12:52:40.972249Z",
     "start_time": "2024-11-08T12:52:40.956127Z"
    }
   },
   "outputs": [],
   "source": [
    "# Split data into train and test sets (e.g., 80% train, 20% test)\n",
    "X_train, X_test, y_train, y_test = train_test_split(feature_df_transformed, target_df_transformed, test_size=0.2, random_state=42)"
   ]
  },
  {
   "cell_type": "code",
   "execution_count": 20,
   "id": "2748e225e32a14c8",
   "metadata": {
    "ExecuteTime": {
     "end_time": "2024-11-08T12:52:44.021006Z",
     "start_time": "2024-11-08T12:52:44.017189Z"
    }
   },
   "outputs": [
    {
     "name": "stdout",
     "output_type": "stream",
     "text": [
      "Training data shape: (62906, 8)\n",
      "Testing data shape: (15727, 8)\n"
     ]
    }
   ],
   "source": [
    "print(f\"Training data shape: {X_train.shape}\")\n",
    "print(f\"Testing data shape: {X_test.shape}\")"
   ]
  },
  {
   "cell_type": "code",
   "execution_count": 21,
   "id": "4fc8b3fea393beb6",
   "metadata": {
    "ExecuteTime": {
     "end_time": "2024-11-08T12:56:34.673591Z",
     "start_time": "2024-11-08T12:56:34.649871Z"
    }
   },
   "outputs": [],
   "source": [
    "# Convert scaled inputs back to DataFrames\n",
    "X_train = pd.DataFrame(X_train)\n",
    "X_test = pd.DataFrame(X_test)\n",
    "\n",
    "# Convert scaled targets back to DataFrames\n",
    "y_train = pd.DataFrame(y_train)\n",
    "y_test = pd.DataFrame(y_test)\n"
   ]
  },
  {
   "cell_type": "markdown",
   "id": "4eda557df3fd667d",
   "metadata": {},
   "source": [
    "## Prepare Data for LSTM Input"
   ]
  },
  {
   "cell_type": "code",
   "execution_count": 22,
   "id": "cd7b5c7a64aa1703",
   "metadata": {
    "ExecuteTime": {
     "end_time": "2024-11-08T12:56:46.366879Z",
     "start_time": "2024-11-08T12:56:46.348341Z"
    }
   },
   "outputs": [],
   "source": [
    "sequence_length = 10\n"
   ]
  },
  {
   "cell_type": "code",
   "execution_count": 23,
   "id": "c9003a4fd9ef3c6f",
   "metadata": {
    "ExecuteTime": {
     "end_time": "2024-11-08T12:57:06.518883Z",
     "start_time": "2024-11-08T12:57:03.948774Z"
    }
   },
   "outputs": [],
   "source": [
    "def create_sequences(inputs, targets, sequence_length):\n",
    "    Xs, ys = [], []\n",
    "    for i in range(len(inputs) - sequence_length):\n",
    "        Xs.append(inputs.iloc[i:(i + sequence_length)].values)\n",
    "        ys.append(targets.iloc[i + sequence_length].values)\n",
    "    return np.array(Xs), np.array(ys)\n",
    "\n",
    "# Create sequences for training data\n",
    "X_train, y_train = create_sequences(X_train, y_train, sequence_length)\n",
    "\n",
    "# Create sequences for testing data\n",
    "X_test, y_test = create_sequences(X_test, y_test, sequence_length)\n"
   ]
  },
  {
   "cell_type": "code",
   "execution_count": 24,
   "id": "8318fafff0dd09e0",
   "metadata": {
    "ExecuteTime": {
     "end_time": "2024-11-08T12:57:29.268542Z",
     "start_time": "2024-11-08T12:57:29.220704Z"
    }
   },
   "outputs": [],
   "source": [
    "# Convert numpy arrays to PyTorch tensors and move to GPU\n",
    "X_train = torch.from_numpy(X_train).float().to(device)\n",
    "y_train = torch.from_numpy(y_train).float().squeeze().to(device)\n",
    "\n",
    "X_test = torch.from_numpy(X_test).float().to(device)\n",
    "y_test = torch.from_numpy(y_test).float().squeeze().to(device)"
   ]
  },
  {
   "cell_type": "code",
   "execution_count": 25,
   "id": "6e13be82-3789-4422-bc1d-54d070a4aa96",
   "metadata": {},
   "outputs": [],
   "source": [
    "# Create a TensorDataset\n",
    "train_dataset = TensorDataset(X_train, y_train)\n",
    "test_dataset = TensorDataset(X_test, y_test)\n",
    "\n",
    "# Create DataLoaders with a smaller batch size\n",
    "batch_size = 32 \n",
    "train_loader = DataLoader(train_dataset, batch_size=batch_size, shuffle=True)\n",
    "test_loader = DataLoader(test_dataset, batch_size=batch_size, shuffle=False)\n"
   ]
  },
  {
   "cell_type": "markdown",
   "id": "fd64f54015a4131b",
   "metadata": {},
   "source": [
    "## Define the LSTM Model"
   ]
  },
  {
   "cell_type": "code",
   "execution_count": 26,
   "id": "c74c4797c9e633b1",
   "metadata": {
    "ExecuteTime": {
     "end_time": "2024-11-08T12:57:34.393387Z",
     "start_time": "2024-11-08T12:57:34.388838Z"
    }
   },
   "outputs": [],
   "source": [
    "class LSTMModel(nn.Module):\n",
    "    def __init__(self, input_size, hidden_size, num_layers):\n",
    "        super(LSTMModel, self).__init__()\n",
    "        self.hidden_size = hidden_size\n",
    "        self.num_layers = num_layers\n",
    "\n",
    "        # Define LSTM layer\n",
    "        self.lstm = nn.LSTM(input_size=input_size, hidden_size=hidden_size, \n",
    "                            num_layers=num_layers, batch_first=True)\n",
    "        \n",
    "        # Output layer\n",
    "        self.fc = nn.Linear(hidden_size, 1) # Output dimension is 1\n",
    "\n",
    "    def forward(self, x):\n",
    "        # Get the device of the input tensor\n",
    "        device = x.device\n",
    "    \n",
    "        # Initialize hidden state and cell state on the same device as the input\n",
    "        h0 = torch.zeros(self.num_layers, x.size(0), self.hidden_size).to(device)\n",
    "        c0 = torch.zeros(self.num_layers, x.size(0), self.hidden_size).to(device)\n",
    "    \n",
    "        # Forward propagate LSTM\n",
    "        out, _ = self.lstm(x, (h0, c0))\n",
    "    \n",
    "        # Get output from the last time step\n",
    "        out = self.fc(out[:, -1, :])\n",
    "        return out\n",
    "\n"
   ]
  },
  {
   "cell_type": "code",
   "execution_count": 27,
   "id": "447ebd525a78a441",
   "metadata": {
    "ExecuteTime": {
     "end_time": "2024-11-08T13:06:32.564449Z",
     "start_time": "2024-11-08T13:06:32.555866Z"
    }
   },
   "outputs": [],
   "source": [
    "# Instantiate the model\n",
    "input_size = X_train.shape[2]  # Number of input features\n",
    "# hidden_size = 64              \n",
    "hidden_size = 128\n",
    "# hidden_size = 256\n",
    "num_layers = 2                 \n",
    "# num_layers = 4                 \n",
    "\n",
    "model = LSTMModel(input_size, hidden_size, num_layers)"
   ]
  },
  {
   "cell_type": "code",
   "execution_count": 28,
   "id": "4d054c22-2802-46ae-9f1e-0fdaab0a7248",
   "metadata": {},
   "outputs": [],
   "source": [
    "# Move data to GPU\n",
    "X_train = X_train.to(device)\n",
    "y_train = y_train.to(device)\n",
    "X_test = X_test.to(device)\n",
    "y_test = y_test.to(device)\n",
    "\n",
    "# Move model to GPU\n",
    "model = model.to(device)\n"
   ]
  },
  {
   "cell_type": "markdown",
   "id": "154f83773b06ef1d",
   "metadata": {},
   "source": [
    "#### Lossfunction and learningrate"
   ]
  },
  {
   "cell_type": "code",
   "execution_count": 29,
   "id": "a83f7ec5bab98903",
   "metadata": {
    "ExecuteTime": {
     "end_time": "2024-11-08T13:06:33.569242Z",
     "start_time": "2024-11-08T13:06:33.564139Z"
    }
   },
   "outputs": [],
   "source": [
    "# criterion = nn.SmoothL1Loss()\n",
    "criterion = nn.L1Loss()\n",
    "\n",
    "# optimizer = torch.optim.Adam(model.parameters(), lr=0.001)\n",
    "optimizer = torch.optim.SGD(model.parameters(), lr=0.01, momentum=0.9)\n"
   ]
  },
  {
   "cell_type": "code",
   "execution_count": 30,
   "id": "be586227b4807aba",
   "metadata": {
    "ExecuteTime": {
     "end_time": "2024-11-08T13:06:35.087496Z",
     "start_time": "2024-11-08T13:06:34.094742Z"
    }
   },
   "outputs": [
    {
     "data": {
      "application/vnd.jupyter.widget-view+json": {
       "model_id": "8ea0875eebe14ebeb0c898bbb41e4b23",
       "version_major": 2,
       "version_minor": 0
      },
      "text/plain": [
       "  0%|          | 0/25 [00:00<?, ?it/s]"
      ]
     },
     "metadata": {},
     "output_type": "display_data"
    },
    {
     "name": "stdout",
     "output_type": "stream",
     "text": [
      "Epoch [1/25], Loss: 0.8097\n",
      "Epoch [2/25], Loss: 0.8096\n",
      "Epoch [3/25], Loss: 0.8094\n",
      "Epoch [4/25], Loss: 0.8096\n",
      "Epoch [5/25], Loss: 0.8094\n",
      "Epoch [6/25], Loss: 0.8096\n",
      "Epoch [7/25], Loss: 0.8096\n",
      "Epoch [8/25], Loss: 0.8094\n",
      "Epoch [9/25], Loss: 0.8094\n",
      "Epoch [10/25], Loss: 0.8094\n",
      "Epoch [11/25], Loss: 0.8091\n",
      "Epoch [12/25], Loss: 0.8095\n",
      "Epoch [13/25], Loss: 0.8094\n",
      "Epoch [14/25], Loss: 0.8091\n",
      "Epoch [15/25], Loss: 0.8094\n",
      "Epoch [16/25], Loss: 0.8095\n",
      "Epoch [17/25], Loss: 0.8095\n",
      "Epoch [18/25], Loss: 0.8094\n",
      "Epoch [19/25], Loss: 0.8096\n",
      "Epoch [20/25], Loss: 0.8094\n",
      "Epoch [21/25], Loss: 0.8095\n",
      "Epoch [22/25], Loss: 0.8093\n",
      "Epoch [23/25], Loss: 0.8094\n",
      "Epoch [24/25], Loss: 0.8094\n",
      "Epoch [25/25], Loss: 0.8093\n"
     ]
    }
   ],
   "source": [
    "# Training loop with DataLoader\n",
    "num_epochs = 25\n",
    "for epoch in tqdm(range(num_epochs)):\n",
    "    model.train()\n",
    "    total_loss = 0\n",
    "\n",
    "    for X_batch, y_batch in train_loader:\n",
    "        X_batch, y_batch = X_batch.to(device), y_batch.to(device)\n",
    "\n",
    "        optimizer.zero_grad()\n",
    "        output = model(X_batch).squeeze()\n",
    "        loss = criterion(output, y_batch)\n",
    "        loss.backward()\n",
    "        optimizer.step()\n",
    "\n",
    "        total_loss += loss.item()\n",
    "\n",
    "    print(f'Epoch [{epoch+1}/{num_epochs}], Loss: {total_loss / len(train_loader):.4f}')\n"
   ]
  },
  {
   "cell_type": "markdown",
   "id": "34d45001aac3a5f0",
   "metadata": {},
   "source": [
    "## Evaluate the Model"
   ]
  },
  {
   "cell_type": "code",
   "execution_count": 31,
   "id": "3717b316-a139-440f-979d-67abf07c9c17",
   "metadata": {},
   "outputs": [],
   "source": [
    "# Create TensorDatasets\n",
    "train_dataset = TensorDataset(X_train, y_train)\n",
    "test_dataset = TensorDataset(X_test, y_test)\n",
    "\n",
    "# Create DataLoaders with smaller batch sizes\n",
    "batch_size = 64\n",
    "train_loader = DataLoader(train_dataset, batch_size=batch_size, shuffle=False)\n",
    "test_loader = DataLoader(test_dataset, batch_size=batch_size, shuffle=False)"
   ]
  },
  {
   "cell_type": "code",
   "execution_count": 32,
   "id": "dc33b5da98aca4bf",
   "metadata": {
    "ExecuteTime": {
     "end_time": "2024-11-08T13:03:08.638847Z",
     "start_time": "2024-11-08T13:03:06.356604Z"
    }
   },
   "outputs": [],
   "source": [
    "# Evaluate the model using DataLoader\n",
    "model.eval()\n",
    "y_train_pred = []\n",
    "y_test_pred = []\n",
    "\n",
    "with torch.no_grad():\n",
    "    # Evaluate on training data\n",
    "    for X_batch, _ in train_loader:\n",
    "        X_batch = X_batch.to(device)\n",
    "        y_pred_batch = model(X_batch).squeeze().cpu().numpy()\n",
    "        y_train_pred.extend(y_pred_batch)\n",
    "\n",
    "    # Evaluate on testing data\n",
    "    for X_batch, _ in test_loader:\n",
    "        X_batch = X_batch.to(device)\n",
    "        y_pred_batch = model(X_batch).squeeze().cpu().numpy()\n",
    "        y_test_pred.extend(y_pred_batch)\n",
    "\n",
    "# Convert predictions to numpy arrays\n",
    "y_train_pred = np.array(y_train_pred)\n",
    "y_test_pred = np.array(y_test_pred)\n",
    "\n",
    "# Move actual values back to CPU for inverse transformation\n",
    "y_train = y_train.cpu().numpy()\n",
    "y_test = y_test.cpu().numpy()\n"
   ]
  },
  {
   "cell_type": "code",
   "execution_count": 33,
   "id": "9914dbfc94a72921",
   "metadata": {
    "ExecuteTime": {
     "end_time": "2024-11-08T13:03:11.071369Z",
     "start_time": "2024-11-08T13:03:10.971622Z"
    }
   },
   "outputs": [
    {
     "name": "stdout",
     "output_type": "stream",
     "text": [
      "Shapes before inverse transform:\n",
      "y_train_actual: (62896,)\n",
      "y_train_pred_actual: (62896,)\n",
      "y_test_actual: (15717,)\n",
      "y_test_pred_actual: (15717,)\n",
      "Sample actual vs. predicted (training set):\n",
      "[-14172.767  -13934.499  -35960.53     -796.2035  21471.38  ] [-1466.9056 -1285.6302 -1469.8064 -1387.0541 -1328.7594]\n",
      "Sample actual vs. predicted (testing set):\n",
      "[-12450.915    8120.6387 -32003.46    15307.242  -25480.658 ] [ -405.8796  -618.5624 -1169.735  -1236.2612 -1195.0532]\n",
      "  Metric         Train          Test\n",
      "0    MSE  5.874945e+08  5.872250e+08\n",
      "1    MAE  1.960658e+04  1.959760e+04\n",
      "2     R² -1.736164e-03 -1.036167e-03\n",
      "3   MAPE  1.346068e+00  1.554684e+01\n",
      "Checking for potential outliers in the target variable:\n",
      "Max value of y_train_actual: 84301.3828125\n",
      "Max value of y_test_actual: 82289.8515625\n"
     ]
    }
   ],
   "source": [
    "# Check the shapes before inverse transformation\n",
    "print(\"Shapes before inverse transform:\")\n",
    "print(f\"y_train_actual: {y_train.shape}\")\n",
    "print(f\"y_train_pred_actual: {y_train_pred.shape}\")\n",
    "print(f\"y_test_actual: {y_test.shape}\")\n",
    "print(f\"y_test_pred_actual: {y_test_pred.shape}\")\n",
    "\n",
    "# Reshape if necessary (inverse_transform expects 2D array)\n",
    "if y_train.ndim == 1:\n",
    "    y_train = y_train.reshape(-1, 1)\n",
    "    y_train_pred = y_train_pred.reshape(-1, 1)\n",
    "    y_test = y_test.reshape(-1, 1)\n",
    "    y_test_pred = y_test_pred.reshape(-1, 1)\n",
    "\n",
    "# Inverse transform\n",
    "y_train = target_scaler.inverse_transform(y_train).flatten()\n",
    "y_train_pred = target_scaler.inverse_transform(y_train_pred).flatten()\n",
    "y_test = target_scaler.inverse_transform(y_test).flatten()\n",
    "y_test_pred = target_scaler.inverse_transform(y_test_pred).flatten()\n",
    "\n",
    "# Print a sample of the actual and predicted values after inverse transform\n",
    "print(\"Sample actual vs. predicted (training set):\")\n",
    "print(y_train[:5], y_train_pred[:5])\n",
    "\n",
    "print(\"Sample actual vs. predicted (testing set):\")\n",
    "print(y_test[:5], y_test_pred[:5])\n",
    "\n",
    "# Calculate metrics for training data\n",
    "train_mse = mean_squared_error(y_train, y_train_pred)\n",
    "train_mae = mean_absolute_error(y_train, y_train_pred)\n",
    "train_r2 = r2_score(y_train, y_train_pred)\n",
    "train_mape = mean_absolute_percentage_error(y_train, y_train_pred)\n",
    "\n",
    "# Calculate metrics for testing data\n",
    "test_mse = mean_squared_error(y_test, y_test_pred)\n",
    "test_mae = mean_absolute_error(y_test, y_test_pred)\n",
    "test_r2 = r2_score(y_test, y_test_pred)\n",
    "test_mape = mean_absolute_percentage_error(y_test, y_test_pred)\n",
    "\n",
    "# Create a DataFrame to display the results\n",
    "results_df = pd.DataFrame({\n",
    "    \"Metric\": [\"MSE\", \"MAE\", \"R²\", \"MAPE\"],\n",
    "    \"Train\": [train_mse, train_mae, train_r2, train_mape],\n",
    "    \"Test\": [test_mse, test_mae, test_r2, test_mape]\n",
    "})\n",
    "\n",
    "# Display the DataFrame\n",
    "print(results_df)\n",
    "\n",
    "# Check for potential outliers in the target variable\n",
    "print(\"Checking for potential outliers in the target variable:\")\n",
    "print(f\"Max value of y_train_actual: {np.max(y_train)}\")\n",
    "print(f\"Max value of y_test_actual: {np.max(y_test)}\")"
   ]
  },
  {
   "cell_type": "code",
   "execution_count": 29,
   "id": "a94a3e2f97cdd111",
   "metadata": {
    "ExecuteTime": {
     "end_time": "2024-10-25T13:39:40.558026Z",
     "start_time": "2024-10-25T13:39:40.552983Z"
    }
   },
   "outputs": [],
   "source": [
    "# # For training data\n",
    "# train_dates = train_df.index[sequence_length:]\n",
    "# \n",
    "# # For testing data\n",
    "# test_dates = test_df.index[sequence_length:]\n",
    "# \n",
    "# # Ensure dates match the length of your predictions\n",
    "# train_dates = train_dates[:len(y_train_actual)]\n",
    "# test_dates = test_dates[:len(y_test_actual)]"
   ]
  },
  {
   "cell_type": "code",
   "execution_count": 30,
   "id": "161fde4990fe10f",
   "metadata": {
    "ExecuteTime": {
     "end_time": "2024-10-25T13:41:46.198499Z",
     "start_time": "2024-10-25T13:39:41.397405Z"
    }
   },
   "outputs": [
    {
     "data": {
      "image/png": "[encoded data removed]",
      "text/plain": [
       "<Figure size 1500x500 with 1 Axes>"
      ]
     },
     "metadata": {},
     "output_type": "display_data"
    }
   ],
   "source": [
    "# import matplotlib.pyplot as plt\n",
    "# \n",
    "# # Plotting the test results\n",
    "# plt.figure(figsize=(15,5))\n",
    "# plt.plot(test_dates, y_test_actual, label='Actual')\n",
    "# plt.plot(test_dates, y_test_pred_actual, label='Predicted')\n",
    "# plt.title('Electricity Consumption Prediction')\n",
    "# plt.xlabel('Date')\n",
    "# plt.ylabel('Electricity Consumption')\n",
    "# plt.legend()\n",
    "# plt.show()\n"
   ]
  },
  {
   "metadata": {
    "ExecuteTime": {
     "end_time": "2024-11-11T17:21:49.139994Z",
     "start_time": "2024-11-11T17:21:49.135658Z"
    }
   },
   "cell_type": "code",
   "source": "dates = test_dates(target_df, y_test)",
   "id": "327f38e257c72878",
   "outputs": [],
   "execution_count": 78
  },
  {
   "metadata": {
    "ExecuteTime": {
     "end_time": "2024-11-11T17:22:01.319206Z",
     "start_time": "2024-11-11T17:22:00.357395Z"
    }
   },
   "cell_type": "code",
   "source": "line_plot_pred(dates, y_test, y_test_pred)",
   "id": "146591c68e27411c",
   "outputs": [
    {
     "data": {
      "text/plain": [
       "<Figure size 1500x500 with 1 Axes>"
      ],
      "image/png": "[encoded data removed]"
     },
     "metadata": {},
     "output_type": "display_data"
    }
   ],
   "execution_count": 79
  }
 ],
 "metadata": {
  "kernelspec": {
   "display_name": "Python 3 (ipykernel)",
   "language": "python",
   "name": "python3"
  },
  "language_info": {
   "codemirror_mode": {
    "name": "ipython",
    "version": 3
   },
   "file_extension": ".py",
   "mimetype": "text/x-python",
   "name": "python",
   "nbconvert_exporter": "python",
   "pygments_lexer": "ipython3",
   "version": "3.11.9"
  }
 },
 "nbformat": 4,
 "nbformat_minor": 5
}
